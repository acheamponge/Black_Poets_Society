{
 "cells": [
  {
   "cell_type": "markdown",
   "metadata": {},
   "source": [
    "<img src=\"./img/negritude.PNG\">"
   ]
  },
  {
   "cell_type": "markdown",
   "metadata": {},
   "source": [
    "As part of the 2020 Black History Month celebrations, The Negritude (Black Poets) Project seeks to perform NLP on poetry from 33 extraordinary Black Poets including:\n",
    "    - Maya Angelou\n",
    "    - Langston Hughes\n",
    "    - Gwendolyn Brooks \n",
    "    - Amiri Baraka\n",
    "    - etc.\n",
    "\n",
    "This project provides:\n",
    "\n",
    "- A dataset of the Poets's works on poetryfoundation.org.\n",
    "- Topic Modelling on the data\n",
    "- Sentiment Analysis of the data\n",
    "- Clustering and classification of the data\n",
    "\n",
    "\n"
   ]
  },
  {
   "cell_type": "code",
   "execution_count": 1,
   "metadata": {},
   "outputs": [],
   "source": [
    "import pandas as pd"
   ]
  },
  {
   "cell_type": "code",
   "execution_count": 3,
   "metadata": {},
   "outputs": [],
   "source": [
    "df = pd.read_csv(\"./data/black_poets.csv\")"
   ]
  },
  {
   "cell_type": "code",
   "execution_count": 4,
   "metadata": {},
   "outputs": [
    {
     "data": {
      "text/html": [
       "<div>\n",
       "<style scoped>\n",
       "    .dataframe tbody tr th:only-of-type {\n",
       "        vertical-align: middle;\n",
       "    }\n",
       "\n",
       "    .dataframe tbody tr th {\n",
       "        vertical-align: top;\n",
       "    }\n",
       "\n",
       "    .dataframe thead th {\n",
       "        text-align: right;\n",
       "    }\n",
       "</style>\n",
       "<table border=\"1\" class=\"dataframe\">\n",
       "  <thead>\n",
       "    <tr style=\"text-align: right;\">\n",
       "      <th></th>\n",
       "      <th>Poet</th>\n",
       "      <th>Title</th>\n",
       "      <th>Poem</th>\n",
       "    </tr>\n",
       "  </thead>\n",
       "  <tbody>\n",
       "    <tr>\n",
       "      <th>0</th>\n",
       "      <td>LANGSTON HUGHES</td>\n",
       "      <td>50-50</td>\n",
       "      <td>I’m all alone in this world, she said,\\nAin’t ...</td>\n",
       "    </tr>\n",
       "    <tr>\n",
       "      <th>1</th>\n",
       "      <td>LANGSTON HUGHES</td>\n",
       "      <td>Boogie: 1 A.M.</td>\n",
       "      <td>Good evening, daddy!\\nI know you’ve heard\\nThe...</td>\n",
       "    </tr>\n",
       "    <tr>\n",
       "      <th>2</th>\n",
       "      <td>LANGSTON HUGHES</td>\n",
       "      <td>Black Maria</td>\n",
       "      <td>Must be the black Maria\\nThat I see,\\nThe blac...</td>\n",
       "    </tr>\n",
       "    <tr>\n",
       "      <th>3</th>\n",
       "      <td>LANGSTON HUGHES</td>\n",
       "      <td>BLUES IN STEREO \\n</td>\n",
       "      <td>YOUR NUMBER'S COMING OUT! BOUQUETS I'LL SEND Y...</td>\n",
       "    </tr>\n",
       "    <tr>\n",
       "      <th>4</th>\n",
       "      <td>LANGSTON HUGHES</td>\n",
       "      <td>Brass Spittoons</td>\n",
       "      <td>Clean the spittoons, boy.\\n      Detroit,\\n   ...</td>\n",
       "    </tr>\n",
       "  </tbody>\n",
       "</table>\n",
       "</div>"
      ],
      "text/plain": [
       "              Poet               Title  \\\n",
       "0  LANGSTON HUGHES               50-50   \n",
       "1  LANGSTON HUGHES      Boogie: 1 A.M.   \n",
       "2  LANGSTON HUGHES         Black Maria   \n",
       "3  LANGSTON HUGHES  BLUES IN STEREO \\n   \n",
       "4  LANGSTON HUGHES     Brass Spittoons   \n",
       "\n",
       "                                                Poem  \n",
       "0  I’m all alone in this world, she said,\\nAin’t ...  \n",
       "1  Good evening, daddy!\\nI know you’ve heard\\nThe...  \n",
       "2  Must be the black Maria\\nThat I see,\\nThe blac...  \n",
       "3  YOUR NUMBER'S COMING OUT! BOUQUETS I'LL SEND Y...  \n",
       "4  Clean the spittoons, boy.\\n      Detroit,\\n   ...  "
      ]
     },
     "execution_count": 4,
     "metadata": {},
     "output_type": "execute_result"
    }
   ],
   "source": [
    "df.head()"
   ]
  },
  {
   "cell_type": "code",
   "execution_count": 7,
   "metadata": {},
   "outputs": [
    {
     "data": {
      "text/plain": [
       "Poet\n",
       " JAYNE CORTEZ                 7\n",
       "ALICE MOORE DUNBAR-NELSON     8\n",
       "AMIRI BARAKA                  7\n",
       "ANNE SPENCER                  4\n",
       "ARNA BONTEMPS                 1\n",
       "AUDRE LORDE                  13\n",
       "CLAUDE MCKAY                 13\n",
       "COUNTEE CULLEN                1\n",
       "DUDLEY RANDALL                2\n",
       "ETHERIDGE KNIGHT\\n           14\n",
       "GEORGE MOSES HORTON           8\n",
       "GWENDOLYN BROOKS             28\n",
       "HAKI R. MADHUBUTI             4\n",
       "HENRY DUMAS                   8\n",
       "JAMES BALDWIN                 5\n",
       "JAMES WELDON JOHNSON\\n        7\n",
       "JEAN TOOMER                  12\n",
       "JUNE JORDAN\\n                14\n",
       "JUPITER HAMMON                4\n",
       "LANGSTON HUGHES              31\n",
       "LUCILLE CLIFTON              26\n",
       "MARGARET WALKER               5\n",
       "MAYA ANGELOU                 11\n",
       "MELVIN B. TOLSON             12\n",
       "MICHAEL S. HARPER            14\n",
       "NIKKI GIOVANNI               15\n",
       "NTOZAKE SHANGE               10\n",
       "PAUL LAURENCE DUNBAR         17\n",
       "PHILLIS WHEATLEY              7\n",
       "QUINCY TROUPE                 1\n",
       "ROBERT HAYDEN                 7\n",
       "TERRANCE HAYES                4\n",
       "WANDA COLEMAN                 7\n",
       "Name: Poem, dtype: int64"
      ]
     },
     "execution_count": 7,
     "metadata": {},
     "output_type": "execute_result"
    }
   ],
   "source": [
    "df.groupby('Poet')['Poem'].count()"
   ]
  },
  {
   "cell_type": "code",
   "execution_count": null,
   "metadata": {},
   "outputs": [],
   "source": []
  }
 ],
 "metadata": {
  "kernelspec": {
   "display_name": "Python 3",
   "language": "python",
   "name": "python3"
  },
  "language_info": {
   "codemirror_mode": {
    "name": "ipython",
    "version": 3
   },
   "file_extension": ".py",
   "mimetype": "text/x-python",
   "name": "python",
   "nbconvert_exporter": "python",
   "pygments_lexer": "ipython3",
   "version": "3.7.6"
  }
 },
 "nbformat": 4,
 "nbformat_minor": 4
}
