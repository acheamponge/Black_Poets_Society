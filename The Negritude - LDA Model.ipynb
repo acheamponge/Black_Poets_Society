{
 "cells": [
  {
   "cell_type": "markdown",
   "metadata": {},
   "source": [
    "<img src=\"./img/negritude.PNG\">"
   ]
  },
  {
   "cell_type": "markdown",
   "metadata": {},
   "source": [
    "As part of the 2020 Black History Month celebrations, The Negritude (Black Poets) Project seeks to perform NLP on poetry from 33 extraordinary Black Poets including:\n",
    "    - Maya Angelou\n",
    "    - Langston Hughes\n",
    "    - Gwendolyn Brooks \n",
    "    - Amiri Baraka\n",
    "    - etc.\n",
    "\n",
    "This project provides:\n",
    "\n",
    "- A dataset of the Poets's works on poetryfoundation.org.\n",
    "- Topic Modelling on the data\n",
    "- Sentiment Analysis of the data\n",
    "- Clustering and classification of the data\n",
    "\n",
    "\n",
    "\n",
    "*Topic Modelling follows code from Machine Learning Plus -* \n",
    "https://www.machinelearningplus.com/nlp/topic-modeling-gensim-python/\n",
    "\n",
    "\n"
   ]
  },
  {
   "cell_type": "code",
   "execution_count": 157,
   "metadata": {},
   "outputs": [
    {
     "data": {
      "text/html": [
       "        <script type=\"text/javascript\">\n",
       "        window.PlotlyConfig = {MathJaxConfig: 'local'};\n",
       "        if (window.MathJax) {MathJax.Hub.Config({SVG: {font: \"STIX-Web\"}});}\n",
       "        if (typeof require !== 'undefined') {\n",
       "        require.undef(\"plotly\");\n",
       "        requirejs.config({\n",
       "            paths: {\n",
       "                'plotly': ['https://cdn.plot.ly/plotly-latest.min']\n",
       "            }\n",
       "        });\n",
       "        require(['plotly'], function(Plotly) {\n",
       "            window._Plotly = Plotly;\n",
       "        });\n",
       "        }\n",
       "        </script>\n",
       "        "
      ]
     },
     "metadata": {},
     "output_type": "display_data"
    }
   ],
   "source": [
    "# import necessary packages\n",
    "import pandas as pd\n",
    "import plotly\n",
    "import plotly.express as px\n",
    "from textblob import TextBlob\n",
    "from sklearn.feature_extraction.text import TfidfVectorizer\n",
    "from sklearn.cluster import KMeans\n",
    "\n",
    "plotly.offline.init_notebook_mode(connected=True)\n",
    "\n",
    "import re\n",
    "import numpy as np\n",
    "from pprint import pprint\n",
    "\n",
    "# Gensim\n",
    "import gensim\n",
    "import gensim.corpora as corpora\n",
    "from gensim.utils import simple_preprocess\n",
    "from gensim.models import CoherenceModel\n",
    "\n",
    "# spacy for lemmatization\n",
    "import spacy\n",
    "\n",
    "\n",
    "\n",
    "# Plotting tools\n",
    "import pyLDAvis\n",
    "import pyLDAvis.gensim  # don't skip this\n",
    "import matplotlib.pyplot as plt\n",
    "%matplotlib inline"
   ]
  },
  {
   "cell_type": "code",
   "execution_count": 59,
   "metadata": {},
   "outputs": [],
   "source": [
    "df = pd.read_csv(\"./data/black_poets.csv\")"
   ]
  },
  {
   "cell_type": "code",
   "execution_count": 60,
   "metadata": {},
   "outputs": [
    {
     "data": {
      "text/html": [
       "<div>\n",
       "<style scoped>\n",
       "    .dataframe tbody tr th:only-of-type {\n",
       "        vertical-align: middle;\n",
       "    }\n",
       "\n",
       "    .dataframe tbody tr th {\n",
       "        vertical-align: top;\n",
       "    }\n",
       "\n",
       "    .dataframe thead th {\n",
       "        text-align: right;\n",
       "    }\n",
       "</style>\n",
       "<table border=\"1\" class=\"dataframe\">\n",
       "  <thead>\n",
       "    <tr style=\"text-align: right;\">\n",
       "      <th></th>\n",
       "      <th>Poet</th>\n",
       "      <th>Title</th>\n",
       "      <th>Poem</th>\n",
       "    </tr>\n",
       "  </thead>\n",
       "  <tbody>\n",
       "    <tr>\n",
       "      <th>0</th>\n",
       "      <td>LANGSTON HUGHES</td>\n",
       "      <td>50-50</td>\n",
       "      <td>I’m all alone in this world, she said,\\nAin’t ...</td>\n",
       "    </tr>\n",
       "    <tr>\n",
       "      <th>1</th>\n",
       "      <td>LANGSTON HUGHES</td>\n",
       "      <td>Boogie: 1 A.M.</td>\n",
       "      <td>Good evening, daddy!\\nI know you’ve heard\\nThe...</td>\n",
       "    </tr>\n",
       "    <tr>\n",
       "      <th>2</th>\n",
       "      <td>LANGSTON HUGHES</td>\n",
       "      <td>Black Maria</td>\n",
       "      <td>Must be the black Maria\\nThat I see,\\nThe blac...</td>\n",
       "    </tr>\n",
       "    <tr>\n",
       "      <th>3</th>\n",
       "      <td>LANGSTON HUGHES</td>\n",
       "      <td>BLUES IN STEREO \\n</td>\n",
       "      <td>YOUR NUMBER'S COMING OUT! BOUQUETS I'LL SEND Y...</td>\n",
       "    </tr>\n",
       "    <tr>\n",
       "      <th>4</th>\n",
       "      <td>LANGSTON HUGHES</td>\n",
       "      <td>Brass Spittoons</td>\n",
       "      <td>Clean the spittoons, boy.\\n      Detroit,\\n   ...</td>\n",
       "    </tr>\n",
       "  </tbody>\n",
       "</table>\n",
       "</div>"
      ],
      "text/plain": [
       "              Poet               Title  \\\n",
       "0  LANGSTON HUGHES               50-50   \n",
       "1  LANGSTON HUGHES      Boogie: 1 A.M.   \n",
       "2  LANGSTON HUGHES         Black Maria   \n",
       "3  LANGSTON HUGHES  BLUES IN STEREO \\n   \n",
       "4  LANGSTON HUGHES     Brass Spittoons   \n",
       "\n",
       "                                                Poem  \n",
       "0  I’m all alone in this world, she said,\\nAin’t ...  \n",
       "1  Good evening, daddy!\\nI know you’ve heard\\nThe...  \n",
       "2  Must be the black Maria\\nThat I see,\\nThe blac...  \n",
       "3  YOUR NUMBER'S COMING OUT! BOUQUETS I'LL SEND Y...  \n",
       "4  Clean the spittoons, boy.\\n      Detroit,\\n   ...  "
      ]
     },
     "execution_count": 60,
     "metadata": {},
     "output_type": "execute_result"
    }
   ],
   "source": [
    "df.head()"
   ]
  },
  {
   "cell_type": "code",
   "execution_count": 61,
   "metadata": {},
   "outputs": [
    {
     "data": {
      "text/plain": [
       "Poet\n",
       " JAYNE CORTEZ                 7\n",
       "ALICE MOORE DUNBAR-NELSON     8\n",
       "AMIRI BARAKA                  7\n",
       "ANNE SPENCER                  4\n",
       "ARNA BONTEMPS                 1\n",
       "AUDRE LORDE                  13\n",
       "CLAUDE MCKAY                 13\n",
       "COUNTEE CULLEN                1\n",
       "DUDLEY RANDALL                2\n",
       "ETHERIDGE KNIGHT\\n           14\n",
       "GEORGE MOSES HORTON           8\n",
       "GWENDOLYN BROOKS             28\n",
       "HAKI R. MADHUBUTI             4\n",
       "HENRY DUMAS                   8\n",
       "JAMES BALDWIN                 5\n",
       "JAMES WELDON JOHNSON\\n        7\n",
       "JEAN TOOMER                  12\n",
       "JUNE JORDAN\\n                14\n",
       "JUPITER HAMMON                4\n",
       "LANGSTON HUGHES              31\n",
       "LUCILLE CLIFTON              26\n",
       "MARGARET WALKER               5\n",
       "MAYA ANGELOU                 11\n",
       "MELVIN B. TOLSON             12\n",
       "MICHAEL S. HARPER            14\n",
       "NIKKI GIOVANNI               15\n",
       "NTOZAKE SHANGE               10\n",
       "PAUL LAURENCE DUNBAR         17\n",
       "PHILLIS WHEATLEY              7\n",
       "QUINCY TROUPE                 1\n",
       "ROBERT HAYDEN                 7\n",
       "TERRANCE HAYES                4\n",
       "WANDA COLEMAN                 7\n",
       "Name: Poem, dtype: int64"
      ]
     },
     "execution_count": 61,
     "metadata": {},
     "output_type": "execute_result"
    }
   ],
   "source": [
    "df.groupby('Poet')['Poem'].count()"
   ]
  },
  {
   "cell_type": "code",
   "execution_count": 62,
   "metadata": {},
   "outputs": [
    {
     "data": {
      "application/vnd.plotly.v1+json": {
       "config": {
        "plotlyServerURL": "https://plot.ly"
       },
       "data": [
        {
         "alignmentgroup": "True",
         "hoverlabel": {
          "namelength": 0
         },
         "hovertemplate": "Poet=%{x}<br>Number of Poems=%{y}",
         "legendgroup": "",
         "marker": {
          "color": "#636efa"
         },
         "name": "",
         "offsetgroup": "",
         "orientation": "v",
         "showlegend": false,
         "textposition": "auto",
         "type": "bar",
         "x": [
          " JAYNE CORTEZ",
          "ALICE MOORE DUNBAR-NELSON",
          "AMIRI BARAKA",
          "ANNE SPENCER",
          "ARNA BONTEMPS",
          "AUDRE LORDE",
          "CLAUDE MCKAY",
          "COUNTEE CULLEN",
          "DUDLEY RANDALL",
          "ETHERIDGE KNIGHT\n",
          "GEORGE MOSES HORTON",
          "GWENDOLYN BROOKS",
          "HAKI R. MADHUBUTI",
          "HENRY DUMAS",
          "JAMES BALDWIN",
          "JAMES WELDON JOHNSON\n",
          "JEAN TOOMER",
          "JUNE JORDAN\n",
          "JUPITER HAMMON",
          "LANGSTON HUGHES",
          "LUCILLE CLIFTON",
          "MARGARET WALKER",
          "MAYA ANGELOU",
          "MELVIN B. TOLSON",
          "MICHAEL S. HARPER",
          "NIKKI GIOVANNI",
          "NTOZAKE SHANGE",
          "PAUL LAURENCE DUNBAR",
          "PHILLIS WHEATLEY",
          "QUINCY TROUPE",
          "ROBERT HAYDEN",
          "TERRANCE HAYES",
          "WANDA COLEMAN"
         ],
         "xaxis": "x",
         "y": [
          7,
          8,
          7,
          4,
          1,
          13,
          13,
          1,
          2,
          14,
          8,
          28,
          4,
          8,
          5,
          7,
          12,
          14,
          4,
          31,
          26,
          5,
          11,
          12,
          14,
          15,
          10,
          17,
          7,
          1,
          7,
          4,
          7
         ],
         "yaxis": "y"
        }
       ],
       "layout": {
        "barmode": "relative",
        "legend": {
         "tracegroupgap": 0
        },
        "margin": {
         "t": 60
        },
        "template": {
         "data": {
          "bar": [
           {
            "error_x": {
             "color": "#2a3f5f"
            },
            "error_y": {
             "color": "#2a3f5f"
            },
            "marker": {
             "line": {
              "color": "#E5ECF6",
              "width": 0.5
             }
            },
            "type": "bar"
           }
          ],
          "barpolar": [
           {
            "marker": {
             "line": {
              "color": "#E5ECF6",
              "width": 0.5
             }
            },
            "type": "barpolar"
           }
          ],
          "carpet": [
           {
            "aaxis": {
             "endlinecolor": "#2a3f5f",
             "gridcolor": "white",
             "linecolor": "white",
             "minorgridcolor": "white",
             "startlinecolor": "#2a3f5f"
            },
            "baxis": {
             "endlinecolor": "#2a3f5f",
             "gridcolor": "white",
             "linecolor": "white",
             "minorgridcolor": "white",
             "startlinecolor": "#2a3f5f"
            },
            "type": "carpet"
           }
          ],
          "choropleth": [
           {
            "colorbar": {
             "outlinewidth": 0,
             "ticks": ""
            },
            "type": "choropleth"
           }
          ],
          "contour": [
           {
            "colorbar": {
             "outlinewidth": 0,
             "ticks": ""
            },
            "colorscale": [
             [
              0,
              "#0d0887"
             ],
             [
              0.1111111111111111,
              "#46039f"
             ],
             [
              0.2222222222222222,
              "#7201a8"
             ],
             [
              0.3333333333333333,
              "#9c179e"
             ],
             [
              0.4444444444444444,
              "#bd3786"
             ],
             [
              0.5555555555555556,
              "#d8576b"
             ],
             [
              0.6666666666666666,
              "#ed7953"
             ],
             [
              0.7777777777777778,
              "#fb9f3a"
             ],
             [
              0.8888888888888888,
              "#fdca26"
             ],
             [
              1,
              "#f0f921"
             ]
            ],
            "type": "contour"
           }
          ],
          "contourcarpet": [
           {
            "colorbar": {
             "outlinewidth": 0,
             "ticks": ""
            },
            "type": "contourcarpet"
           }
          ],
          "heatmap": [
           {
            "colorbar": {
             "outlinewidth": 0,
             "ticks": ""
            },
            "colorscale": [
             [
              0,
              "#0d0887"
             ],
             [
              0.1111111111111111,
              "#46039f"
             ],
             [
              0.2222222222222222,
              "#7201a8"
             ],
             [
              0.3333333333333333,
              "#9c179e"
             ],
             [
              0.4444444444444444,
              "#bd3786"
             ],
             [
              0.5555555555555556,
              "#d8576b"
             ],
             [
              0.6666666666666666,
              "#ed7953"
             ],
             [
              0.7777777777777778,
              "#fb9f3a"
             ],
             [
              0.8888888888888888,
              "#fdca26"
             ],
             [
              1,
              "#f0f921"
             ]
            ],
            "type": "heatmap"
           }
          ],
          "heatmapgl": [
           {
            "colorbar": {
             "outlinewidth": 0,
             "ticks": ""
            },
            "colorscale": [
             [
              0,
              "#0d0887"
             ],
             [
              0.1111111111111111,
              "#46039f"
             ],
             [
              0.2222222222222222,
              "#7201a8"
             ],
             [
              0.3333333333333333,
              "#9c179e"
             ],
             [
              0.4444444444444444,
              "#bd3786"
             ],
             [
              0.5555555555555556,
              "#d8576b"
             ],
             [
              0.6666666666666666,
              "#ed7953"
             ],
             [
              0.7777777777777778,
              "#fb9f3a"
             ],
             [
              0.8888888888888888,
              "#fdca26"
             ],
             [
              1,
              "#f0f921"
             ]
            ],
            "type": "heatmapgl"
           }
          ],
          "histogram": [
           {
            "marker": {
             "colorbar": {
              "outlinewidth": 0,
              "ticks": ""
             }
            },
            "type": "histogram"
           }
          ],
          "histogram2d": [
           {
            "colorbar": {
             "outlinewidth": 0,
             "ticks": ""
            },
            "colorscale": [
             [
              0,
              "#0d0887"
             ],
             [
              0.1111111111111111,
              "#46039f"
             ],
             [
              0.2222222222222222,
              "#7201a8"
             ],
             [
              0.3333333333333333,
              "#9c179e"
             ],
             [
              0.4444444444444444,
              "#bd3786"
             ],
             [
              0.5555555555555556,
              "#d8576b"
             ],
             [
              0.6666666666666666,
              "#ed7953"
             ],
             [
              0.7777777777777778,
              "#fb9f3a"
             ],
             [
              0.8888888888888888,
              "#fdca26"
             ],
             [
              1,
              "#f0f921"
             ]
            ],
            "type": "histogram2d"
           }
          ],
          "histogram2dcontour": [
           {
            "colorbar": {
             "outlinewidth": 0,
             "ticks": ""
            },
            "colorscale": [
             [
              0,
              "#0d0887"
             ],
             [
              0.1111111111111111,
              "#46039f"
             ],
             [
              0.2222222222222222,
              "#7201a8"
             ],
             [
              0.3333333333333333,
              "#9c179e"
             ],
             [
              0.4444444444444444,
              "#bd3786"
             ],
             [
              0.5555555555555556,
              "#d8576b"
             ],
             [
              0.6666666666666666,
              "#ed7953"
             ],
             [
              0.7777777777777778,
              "#fb9f3a"
             ],
             [
              0.8888888888888888,
              "#fdca26"
             ],
             [
              1,
              "#f0f921"
             ]
            ],
            "type": "histogram2dcontour"
           }
          ],
          "mesh3d": [
           {
            "colorbar": {
             "outlinewidth": 0,
             "ticks": ""
            },
            "type": "mesh3d"
           }
          ],
          "parcoords": [
           {
            "line": {
             "colorbar": {
              "outlinewidth": 0,
              "ticks": ""
             }
            },
            "type": "parcoords"
           }
          ],
          "pie": [
           {
            "automargin": true,
            "type": "pie"
           }
          ],
          "scatter": [
           {
            "marker": {
             "colorbar": {
              "outlinewidth": 0,
              "ticks": ""
             }
            },
            "type": "scatter"
           }
          ],
          "scatter3d": [
           {
            "line": {
             "colorbar": {
              "outlinewidth": 0,
              "ticks": ""
             }
            },
            "marker": {
             "colorbar": {
              "outlinewidth": 0,
              "ticks": ""
             }
            },
            "type": "scatter3d"
           }
          ],
          "scattercarpet": [
           {
            "marker": {
             "colorbar": {
              "outlinewidth": 0,
              "ticks": ""
             }
            },
            "type": "scattercarpet"
           }
          ],
          "scattergeo": [
           {
            "marker": {
             "colorbar": {
              "outlinewidth": 0,
              "ticks": ""
             }
            },
            "type": "scattergeo"
           }
          ],
          "scattergl": [
           {
            "marker": {
             "colorbar": {
              "outlinewidth": 0,
              "ticks": ""
             }
            },
            "type": "scattergl"
           }
          ],
          "scattermapbox": [
           {
            "marker": {
             "colorbar": {
              "outlinewidth": 0,
              "ticks": ""
             }
            },
            "type": "scattermapbox"
           }
          ],
          "scatterpolar": [
           {
            "marker": {
             "colorbar": {
              "outlinewidth": 0,
              "ticks": ""
             }
            },
            "type": "scatterpolar"
           }
          ],
          "scatterpolargl": [
           {
            "marker": {
             "colorbar": {
              "outlinewidth": 0,
              "ticks": ""
             }
            },
            "type": "scatterpolargl"
           }
          ],
          "scatterternary": [
           {
            "marker": {
             "colorbar": {
              "outlinewidth": 0,
              "ticks": ""
             }
            },
            "type": "scatterternary"
           }
          ],
          "surface": [
           {
            "colorbar": {
             "outlinewidth": 0,
             "ticks": ""
            },
            "colorscale": [
             [
              0,
              "#0d0887"
             ],
             [
              0.1111111111111111,
              "#46039f"
             ],
             [
              0.2222222222222222,
              "#7201a8"
             ],
             [
              0.3333333333333333,
              "#9c179e"
             ],
             [
              0.4444444444444444,
              "#bd3786"
             ],
             [
              0.5555555555555556,
              "#d8576b"
             ],
             [
              0.6666666666666666,
              "#ed7953"
             ],
             [
              0.7777777777777778,
              "#fb9f3a"
             ],
             [
              0.8888888888888888,
              "#fdca26"
             ],
             [
              1,
              "#f0f921"
             ]
            ],
            "type": "surface"
           }
          ],
          "table": [
           {
            "cells": {
             "fill": {
              "color": "#EBF0F8"
             },
             "line": {
              "color": "white"
             }
            },
            "header": {
             "fill": {
              "color": "#C8D4E3"
             },
             "line": {
              "color": "white"
             }
            },
            "type": "table"
           }
          ]
         },
         "layout": {
          "annotationdefaults": {
           "arrowcolor": "#2a3f5f",
           "arrowhead": 0,
           "arrowwidth": 1
          },
          "coloraxis": {
           "colorbar": {
            "outlinewidth": 0,
            "ticks": ""
           }
          },
          "colorscale": {
           "diverging": [
            [
             0,
             "#8e0152"
            ],
            [
             0.1,
             "#c51b7d"
            ],
            [
             0.2,
             "#de77ae"
            ],
            [
             0.3,
             "#f1b6da"
            ],
            [
             0.4,
             "#fde0ef"
            ],
            [
             0.5,
             "#f7f7f7"
            ],
            [
             0.6,
             "#e6f5d0"
            ],
            [
             0.7,
             "#b8e186"
            ],
            [
             0.8,
             "#7fbc41"
            ],
            [
             0.9,
             "#4d9221"
            ],
            [
             1,
             "#276419"
            ]
           ],
           "sequential": [
            [
             0,
             "#0d0887"
            ],
            [
             0.1111111111111111,
             "#46039f"
            ],
            [
             0.2222222222222222,
             "#7201a8"
            ],
            [
             0.3333333333333333,
             "#9c179e"
            ],
            [
             0.4444444444444444,
             "#bd3786"
            ],
            [
             0.5555555555555556,
             "#d8576b"
            ],
            [
             0.6666666666666666,
             "#ed7953"
            ],
            [
             0.7777777777777778,
             "#fb9f3a"
            ],
            [
             0.8888888888888888,
             "#fdca26"
            ],
            [
             1,
             "#f0f921"
            ]
           ],
           "sequentialminus": [
            [
             0,
             "#0d0887"
            ],
            [
             0.1111111111111111,
             "#46039f"
            ],
            [
             0.2222222222222222,
             "#7201a8"
            ],
            [
             0.3333333333333333,
             "#9c179e"
            ],
            [
             0.4444444444444444,
             "#bd3786"
            ],
            [
             0.5555555555555556,
             "#d8576b"
            ],
            [
             0.6666666666666666,
             "#ed7953"
            ],
            [
             0.7777777777777778,
             "#fb9f3a"
            ],
            [
             0.8888888888888888,
             "#fdca26"
            ],
            [
             1,
             "#f0f921"
            ]
           ]
          },
          "colorway": [
           "#636efa",
           "#EF553B",
           "#00cc96",
           "#ab63fa",
           "#FFA15A",
           "#19d3f3",
           "#FF6692",
           "#B6E880",
           "#FF97FF",
           "#FECB52"
          ],
          "font": {
           "color": "#2a3f5f"
          },
          "geo": {
           "bgcolor": "white",
           "lakecolor": "white",
           "landcolor": "#E5ECF6",
           "showlakes": true,
           "showland": true,
           "subunitcolor": "white"
          },
          "hoverlabel": {
           "align": "left"
          },
          "hovermode": "closest",
          "mapbox": {
           "style": "light"
          },
          "paper_bgcolor": "white",
          "plot_bgcolor": "#E5ECF6",
          "polar": {
           "angularaxis": {
            "gridcolor": "white",
            "linecolor": "white",
            "ticks": ""
           },
           "bgcolor": "#E5ECF6",
           "radialaxis": {
            "gridcolor": "white",
            "linecolor": "white",
            "ticks": ""
           }
          },
          "scene": {
           "xaxis": {
            "backgroundcolor": "#E5ECF6",
            "gridcolor": "white",
            "gridwidth": 2,
            "linecolor": "white",
            "showbackground": true,
            "ticks": "",
            "zerolinecolor": "white"
           },
           "yaxis": {
            "backgroundcolor": "#E5ECF6",
            "gridcolor": "white",
            "gridwidth": 2,
            "linecolor": "white",
            "showbackground": true,
            "ticks": "",
            "zerolinecolor": "white"
           },
           "zaxis": {
            "backgroundcolor": "#E5ECF6",
            "gridcolor": "white",
            "gridwidth": 2,
            "linecolor": "white",
            "showbackground": true,
            "ticks": "",
            "zerolinecolor": "white"
           }
          },
          "shapedefaults": {
           "line": {
            "color": "#2a3f5f"
           }
          },
          "ternary": {
           "aaxis": {
            "gridcolor": "white",
            "linecolor": "white",
            "ticks": ""
           },
           "baxis": {
            "gridcolor": "white",
            "linecolor": "white",
            "ticks": ""
           },
           "bgcolor": "#E5ECF6",
           "caxis": {
            "gridcolor": "white",
            "linecolor": "white",
            "ticks": ""
           }
          },
          "title": {
           "x": 0.05
          },
          "xaxis": {
           "automargin": true,
           "gridcolor": "white",
           "linecolor": "white",
           "ticks": "",
           "title": {
            "standoff": 15
           },
           "zerolinecolor": "white",
           "zerolinewidth": 2
          },
          "yaxis": {
           "automargin": true,
           "gridcolor": "white",
           "linecolor": "white",
           "ticks": "",
           "title": {
            "standoff": 15
           },
           "zerolinecolor": "white",
           "zerolinewidth": 2
          }
         }
        },
        "xaxis": {
         "anchor": "y",
         "domain": [
          0,
          1
         ],
         "title": {
          "text": "Poet"
         }
        },
        "yaxis": {
         "anchor": "x",
         "domain": [
          0,
          1
         ],
         "title": {
          "text": "Number of Poems"
         }
        }
       }
      },
      "text/html": [
       "<div>\n",
       "        \n",
       "        \n",
       "            <div id=\"8ddd497b-3fca-46d2-9d2f-0e8606a11643\" class=\"plotly-graph-div\" style=\"height:525px; width:100%;\"></div>\n",
       "            <script type=\"text/javascript\">\n",
       "                require([\"plotly\"], function(Plotly) {\n",
       "                    window.PLOTLYENV=window.PLOTLYENV || {};\n",
       "                    \n",
       "                if (document.getElementById(\"8ddd497b-3fca-46d2-9d2f-0e8606a11643\")) {\n",
       "                    Plotly.newPlot(\n",
       "                        '8ddd497b-3fca-46d2-9d2f-0e8606a11643',\n",
       "                        [{\"alignmentgroup\": \"True\", \"hoverlabel\": {\"namelength\": 0}, \"hovertemplate\": \"Poet=%{x}<br>Number of Poems=%{y}\", \"legendgroup\": \"\", \"marker\": {\"color\": \"#636efa\"}, \"name\": \"\", \"offsetgroup\": \"\", \"orientation\": \"v\", \"showlegend\": false, \"textposition\": \"auto\", \"type\": \"bar\", \"x\": [\" JAYNE CORTEZ\", \"ALICE MOORE DUNBAR-NELSON\", \"AMIRI BARAKA\", \"ANNE SPENCER\", \"ARNA BONTEMPS\", \"AUDRE LORDE\", \"CLAUDE MCKAY\", \"COUNTEE CULLEN\", \"DUDLEY RANDALL\", \"ETHERIDGE KNIGHT\\n\", \"GEORGE MOSES HORTON\", \"GWENDOLYN BROOKS\", \"HAKI R. MADHUBUTI\", \"HENRY DUMAS\", \"JAMES BALDWIN\", \"JAMES WELDON JOHNSON\\n\", \"JEAN TOOMER\", \"JUNE JORDAN\\n\", \"JUPITER HAMMON\", \"LANGSTON HUGHES\", \"LUCILLE CLIFTON\", \"MARGARET WALKER\", \"MAYA ANGELOU\", \"MELVIN B. TOLSON\", \"MICHAEL S. HARPER\", \"NIKKI GIOVANNI\", \"NTOZAKE SHANGE\", \"PAUL LAURENCE DUNBAR\", \"PHILLIS WHEATLEY\", \"QUINCY TROUPE\", \"ROBERT HAYDEN\", \"TERRANCE HAYES\", \"WANDA COLEMAN\"], \"xaxis\": \"x\", \"y\": [7, 8, 7, 4, 1, 13, 13, 1, 2, 14, 8, 28, 4, 8, 5, 7, 12, 14, 4, 31, 26, 5, 11, 12, 14, 15, 10, 17, 7, 1, 7, 4, 7], \"yaxis\": \"y\"}],\n",
       "                        {\"barmode\": \"relative\", \"legend\": {\"tracegroupgap\": 0}, \"margin\": {\"t\": 60}, \"template\": {\"data\": {\"bar\": [{\"error_x\": {\"color\": \"#2a3f5f\"}, \"error_y\": {\"color\": \"#2a3f5f\"}, \"marker\": {\"line\": {\"color\": \"#E5ECF6\", \"width\": 0.5}}, \"type\": \"bar\"}], \"barpolar\": [{\"marker\": {\"line\": {\"color\": \"#E5ECF6\", \"width\": 0.5}}, \"type\": \"barpolar\"}], \"carpet\": [{\"aaxis\": {\"endlinecolor\": \"#2a3f5f\", \"gridcolor\": \"white\", \"linecolor\": \"white\", \"minorgridcolor\": \"white\", \"startlinecolor\": \"#2a3f5f\"}, \"baxis\": {\"endlinecolor\": \"#2a3f5f\", \"gridcolor\": \"white\", \"linecolor\": \"white\", \"minorgridcolor\": \"white\", \"startlinecolor\": \"#2a3f5f\"}, \"type\": \"carpet\"}], \"choropleth\": [{\"colorbar\": {\"outlinewidth\": 0, \"ticks\": \"\"}, \"type\": \"choropleth\"}], \"contour\": [{\"colorbar\": {\"outlinewidth\": 0, \"ticks\": \"\"}, \"colorscale\": [[0.0, \"#0d0887\"], [0.1111111111111111, \"#46039f\"], [0.2222222222222222, \"#7201a8\"], [0.3333333333333333, \"#9c179e\"], [0.4444444444444444, \"#bd3786\"], [0.5555555555555556, \"#d8576b\"], [0.6666666666666666, \"#ed7953\"], [0.7777777777777778, \"#fb9f3a\"], [0.8888888888888888, \"#fdca26\"], [1.0, \"#f0f921\"]], \"type\": \"contour\"}], \"contourcarpet\": [{\"colorbar\": {\"outlinewidth\": 0, \"ticks\": \"\"}, \"type\": \"contourcarpet\"}], \"heatmap\": [{\"colorbar\": {\"outlinewidth\": 0, \"ticks\": \"\"}, \"colorscale\": [[0.0, \"#0d0887\"], [0.1111111111111111, \"#46039f\"], [0.2222222222222222, \"#7201a8\"], [0.3333333333333333, \"#9c179e\"], [0.4444444444444444, \"#bd3786\"], [0.5555555555555556, \"#d8576b\"], [0.6666666666666666, \"#ed7953\"], [0.7777777777777778, \"#fb9f3a\"], [0.8888888888888888, \"#fdca26\"], [1.0, \"#f0f921\"]], \"type\": \"heatmap\"}], \"heatmapgl\": [{\"colorbar\": {\"outlinewidth\": 0, \"ticks\": \"\"}, \"colorscale\": [[0.0, \"#0d0887\"], [0.1111111111111111, \"#46039f\"], [0.2222222222222222, \"#7201a8\"], [0.3333333333333333, \"#9c179e\"], [0.4444444444444444, \"#bd3786\"], [0.5555555555555556, \"#d8576b\"], [0.6666666666666666, \"#ed7953\"], [0.7777777777777778, \"#fb9f3a\"], [0.8888888888888888, \"#fdca26\"], [1.0, \"#f0f921\"]], \"type\": \"heatmapgl\"}], \"histogram\": [{\"marker\": {\"colorbar\": {\"outlinewidth\": 0, \"ticks\": \"\"}}, \"type\": \"histogram\"}], \"histogram2d\": [{\"colorbar\": {\"outlinewidth\": 0, \"ticks\": \"\"}, \"colorscale\": [[0.0, \"#0d0887\"], [0.1111111111111111, \"#46039f\"], [0.2222222222222222, \"#7201a8\"], [0.3333333333333333, \"#9c179e\"], [0.4444444444444444, \"#bd3786\"], [0.5555555555555556, \"#d8576b\"], [0.6666666666666666, \"#ed7953\"], [0.7777777777777778, \"#fb9f3a\"], [0.8888888888888888, \"#fdca26\"], [1.0, \"#f0f921\"]], \"type\": \"histogram2d\"}], \"histogram2dcontour\": [{\"colorbar\": {\"outlinewidth\": 0, \"ticks\": \"\"}, \"colorscale\": [[0.0, \"#0d0887\"], [0.1111111111111111, \"#46039f\"], [0.2222222222222222, \"#7201a8\"], [0.3333333333333333, \"#9c179e\"], [0.4444444444444444, \"#bd3786\"], [0.5555555555555556, \"#d8576b\"], [0.6666666666666666, \"#ed7953\"], [0.7777777777777778, \"#fb9f3a\"], [0.8888888888888888, \"#fdca26\"], [1.0, \"#f0f921\"]], \"type\": \"histogram2dcontour\"}], \"mesh3d\": [{\"colorbar\": {\"outlinewidth\": 0, \"ticks\": \"\"}, \"type\": \"mesh3d\"}], \"parcoords\": [{\"line\": {\"colorbar\": {\"outlinewidth\": 0, \"ticks\": \"\"}}, \"type\": \"parcoords\"}], \"pie\": [{\"automargin\": true, \"type\": \"pie\"}], \"scatter\": [{\"marker\": {\"colorbar\": {\"outlinewidth\": 0, \"ticks\": \"\"}}, \"type\": \"scatter\"}], \"scatter3d\": [{\"line\": {\"colorbar\": {\"outlinewidth\": 0, \"ticks\": \"\"}}, \"marker\": {\"colorbar\": {\"outlinewidth\": 0, \"ticks\": \"\"}}, \"type\": \"scatter3d\"}], \"scattercarpet\": [{\"marker\": {\"colorbar\": {\"outlinewidth\": 0, \"ticks\": \"\"}}, \"type\": \"scattercarpet\"}], \"scattergeo\": [{\"marker\": {\"colorbar\": {\"outlinewidth\": 0, \"ticks\": \"\"}}, \"type\": \"scattergeo\"}], \"scattergl\": [{\"marker\": {\"colorbar\": {\"outlinewidth\": 0, \"ticks\": \"\"}}, \"type\": \"scattergl\"}], \"scattermapbox\": [{\"marker\": {\"colorbar\": {\"outlinewidth\": 0, \"ticks\": \"\"}}, \"type\": \"scattermapbox\"}], \"scatterpolar\": [{\"marker\": {\"colorbar\": {\"outlinewidth\": 0, \"ticks\": \"\"}}, \"type\": \"scatterpolar\"}], \"scatterpolargl\": [{\"marker\": {\"colorbar\": {\"outlinewidth\": 0, \"ticks\": \"\"}}, \"type\": \"scatterpolargl\"}], \"scatterternary\": [{\"marker\": {\"colorbar\": {\"outlinewidth\": 0, \"ticks\": \"\"}}, \"type\": \"scatterternary\"}], \"surface\": [{\"colorbar\": {\"outlinewidth\": 0, \"ticks\": \"\"}, \"colorscale\": [[0.0, \"#0d0887\"], [0.1111111111111111, \"#46039f\"], [0.2222222222222222, \"#7201a8\"], [0.3333333333333333, \"#9c179e\"], [0.4444444444444444, \"#bd3786\"], [0.5555555555555556, \"#d8576b\"], [0.6666666666666666, \"#ed7953\"], [0.7777777777777778, \"#fb9f3a\"], [0.8888888888888888, \"#fdca26\"], [1.0, \"#f0f921\"]], \"type\": \"surface\"}], \"table\": [{\"cells\": {\"fill\": {\"color\": \"#EBF0F8\"}, \"line\": {\"color\": \"white\"}}, \"header\": {\"fill\": {\"color\": \"#C8D4E3\"}, \"line\": {\"color\": \"white\"}}, \"type\": \"table\"}]}, \"layout\": {\"annotationdefaults\": {\"arrowcolor\": \"#2a3f5f\", \"arrowhead\": 0, \"arrowwidth\": 1}, \"coloraxis\": {\"colorbar\": {\"outlinewidth\": 0, \"ticks\": \"\"}}, \"colorscale\": {\"diverging\": [[0, \"#8e0152\"], [0.1, \"#c51b7d\"], [0.2, \"#de77ae\"], [0.3, \"#f1b6da\"], [0.4, \"#fde0ef\"], [0.5, \"#f7f7f7\"], [0.6, \"#e6f5d0\"], [0.7, \"#b8e186\"], [0.8, \"#7fbc41\"], [0.9, \"#4d9221\"], [1, \"#276419\"]], \"sequential\": [[0.0, \"#0d0887\"], [0.1111111111111111, \"#46039f\"], [0.2222222222222222, \"#7201a8\"], [0.3333333333333333, \"#9c179e\"], [0.4444444444444444, \"#bd3786\"], [0.5555555555555556, \"#d8576b\"], [0.6666666666666666, \"#ed7953\"], [0.7777777777777778, \"#fb9f3a\"], [0.8888888888888888, \"#fdca26\"], [1.0, \"#f0f921\"]], \"sequentialminus\": [[0.0, \"#0d0887\"], [0.1111111111111111, \"#46039f\"], [0.2222222222222222, \"#7201a8\"], [0.3333333333333333, \"#9c179e\"], [0.4444444444444444, \"#bd3786\"], [0.5555555555555556, \"#d8576b\"], [0.6666666666666666, \"#ed7953\"], [0.7777777777777778, \"#fb9f3a\"], [0.8888888888888888, \"#fdca26\"], [1.0, \"#f0f921\"]]}, \"colorway\": [\"#636efa\", \"#EF553B\", \"#00cc96\", \"#ab63fa\", \"#FFA15A\", \"#19d3f3\", \"#FF6692\", \"#B6E880\", \"#FF97FF\", \"#FECB52\"], \"font\": {\"color\": \"#2a3f5f\"}, \"geo\": {\"bgcolor\": \"white\", \"lakecolor\": \"white\", \"landcolor\": \"#E5ECF6\", \"showlakes\": true, \"showland\": true, \"subunitcolor\": \"white\"}, \"hoverlabel\": {\"align\": \"left\"}, \"hovermode\": \"closest\", \"mapbox\": {\"style\": \"light\"}, \"paper_bgcolor\": \"white\", \"plot_bgcolor\": \"#E5ECF6\", \"polar\": {\"angularaxis\": {\"gridcolor\": \"white\", \"linecolor\": \"white\", \"ticks\": \"\"}, \"bgcolor\": \"#E5ECF6\", \"radialaxis\": {\"gridcolor\": \"white\", \"linecolor\": \"white\", \"ticks\": \"\"}}, \"scene\": {\"xaxis\": {\"backgroundcolor\": \"#E5ECF6\", \"gridcolor\": \"white\", \"gridwidth\": 2, \"linecolor\": \"white\", \"showbackground\": true, \"ticks\": \"\", \"zerolinecolor\": \"white\"}, \"yaxis\": {\"backgroundcolor\": \"#E5ECF6\", \"gridcolor\": \"white\", \"gridwidth\": 2, \"linecolor\": \"white\", \"showbackground\": true, \"ticks\": \"\", \"zerolinecolor\": \"white\"}, \"zaxis\": {\"backgroundcolor\": \"#E5ECF6\", \"gridcolor\": \"white\", \"gridwidth\": 2, \"linecolor\": \"white\", \"showbackground\": true, \"ticks\": \"\", \"zerolinecolor\": \"white\"}}, \"shapedefaults\": {\"line\": {\"color\": \"#2a3f5f\"}}, \"ternary\": {\"aaxis\": {\"gridcolor\": \"white\", \"linecolor\": \"white\", \"ticks\": \"\"}, \"baxis\": {\"gridcolor\": \"white\", \"linecolor\": \"white\", \"ticks\": \"\"}, \"bgcolor\": \"#E5ECF6\", \"caxis\": {\"gridcolor\": \"white\", \"linecolor\": \"white\", \"ticks\": \"\"}}, \"title\": {\"x\": 0.05}, \"xaxis\": {\"automargin\": true, \"gridcolor\": \"white\", \"linecolor\": \"white\", \"ticks\": \"\", \"title\": {\"standoff\": 15}, \"zerolinecolor\": \"white\", \"zerolinewidth\": 2}, \"yaxis\": {\"automargin\": true, \"gridcolor\": \"white\", \"linecolor\": \"white\", \"ticks\": \"\", \"title\": {\"standoff\": 15}, \"zerolinecolor\": \"white\", \"zerolinewidth\": 2}}}, \"xaxis\": {\"anchor\": \"y\", \"domain\": [0.0, 1.0], \"title\": {\"text\": \"Poet\"}}, \"yaxis\": {\"anchor\": \"x\", \"domain\": [0.0, 1.0], \"title\": {\"text\": \"Number of Poems\"}}},\n",
       "                        {\"responsive\": true}\n",
       "                    ).then(function(){\n",
       "                            \n",
       "var gd = document.getElementById('8ddd497b-3fca-46d2-9d2f-0e8606a11643');\n",
       "var x = new MutationObserver(function (mutations, observer) {{\n",
       "        var display = window.getComputedStyle(gd).display;\n",
       "        if (!display || display === 'none') {{\n",
       "            console.log([gd, 'removed!']);\n",
       "            Plotly.purge(gd);\n",
       "            observer.disconnect();\n",
       "        }}\n",
       "}});\n",
       "\n",
       "// Listen for the removal of the full notebook cells\n",
       "var notebookContainer = gd.closest('#notebook-container');\n",
       "if (notebookContainer) {{\n",
       "    x.observe(notebookContainer, {childList: true});\n",
       "}}\n",
       "\n",
       "// Listen for the clearing of the current output cell\n",
       "var outputEl = gd.closest('.output');\n",
       "if (outputEl) {{\n",
       "    x.observe(outputEl, {childList: true});\n",
       "}}\n",
       "\n",
       "                        })\n",
       "                };\n",
       "                });\n",
       "            </script>\n",
       "        </div>"
      ]
     },
     "metadata": {},
     "output_type": "display_data"
    }
   ],
   "source": [
    "df2 = df.groupby('Poet').count()\n",
    "fig = px.bar(df2, x=df2.index, y=\"Title\", labels={'x':'Poet', 'Title':'Number of Poems'})\n",
    "\n",
    "fig.show()"
   ]
  },
  {
   "cell_type": "code",
   "execution_count": 63,
   "metadata": {},
   "outputs": [],
   "source": [
    "df['Poem'] = df['Poem'].astype(str)\n",
    "\n",
    "df['Sentiment Analysis'] = df['Poem'].apply(lambda tweet: 'positive' if TextBlob(tweet).sentiment.polarity > 0  else ('neutral' if TextBlob(tweet).sentiment.polarity == 0 else 'negative'))"
   ]
  },
  {
   "cell_type": "code",
   "execution_count": 53,
   "metadata": {},
   "outputs": [
    {
     "data": {
      "text/html": [
       "<div>\n",
       "<style scoped>\n",
       "    .dataframe tbody tr th:only-of-type {\n",
       "        vertical-align: middle;\n",
       "    }\n",
       "\n",
       "    .dataframe tbody tr th {\n",
       "        vertical-align: top;\n",
       "    }\n",
       "\n",
       "    .dataframe thead th {\n",
       "        text-align: right;\n",
       "    }\n",
       "</style>\n",
       "<table border=\"1\" class=\"dataframe\">\n",
       "  <thead>\n",
       "    <tr style=\"text-align: right;\">\n",
       "      <th></th>\n",
       "      <th>Poet</th>\n",
       "      <th>Title</th>\n",
       "      <th>Poem</th>\n",
       "      <th>Sentiment Analysis</th>\n",
       "    </tr>\n",
       "  </thead>\n",
       "  <tbody>\n",
       "    <tr>\n",
       "      <th>0</th>\n",
       "      <td>LANGSTON HUGHES</td>\n",
       "      <td>50-50</td>\n",
       "      <td>I’m all alone in this world, she said,\\nAin’t ...</td>\n",
       "      <td>negative</td>\n",
       "    </tr>\n",
       "    <tr>\n",
       "      <th>1</th>\n",
       "      <td>LANGSTON HUGHES</td>\n",
       "      <td>Boogie: 1 A.M.</td>\n",
       "      <td>Good evening, daddy!\\nI know you’ve heard\\nThe...</td>\n",
       "      <td>positive</td>\n",
       "    </tr>\n",
       "    <tr>\n",
       "      <th>2</th>\n",
       "      <td>LANGSTON HUGHES</td>\n",
       "      <td>Black Maria</td>\n",
       "      <td>Must be the black Maria\\nThat I see,\\nThe blac...</td>\n",
       "      <td>positive</td>\n",
       "    </tr>\n",
       "    <tr>\n",
       "      <th>3</th>\n",
       "      <td>LANGSTON HUGHES</td>\n",
       "      <td>BLUES IN STEREO \\n</td>\n",
       "      <td>YOUR NUMBER'S COMING OUT! BOUQUETS I'LL SEND Y...</td>\n",
       "      <td>positive</td>\n",
       "    </tr>\n",
       "    <tr>\n",
       "      <th>4</th>\n",
       "      <td>LANGSTON HUGHES</td>\n",
       "      <td>Brass Spittoons</td>\n",
       "      <td>Clean the spittoons, boy.\\n      Detroit,\\n   ...</td>\n",
       "      <td>positive</td>\n",
       "    </tr>\n",
       "  </tbody>\n",
       "</table>\n",
       "</div>"
      ],
      "text/plain": [
       "              Poet               Title  \\\n",
       "0  LANGSTON HUGHES               50-50   \n",
       "1  LANGSTON HUGHES      Boogie: 1 A.M.   \n",
       "2  LANGSTON HUGHES         Black Maria   \n",
       "3  LANGSTON HUGHES  BLUES IN STEREO \\n   \n",
       "4  LANGSTON HUGHES     Brass Spittoons   \n",
       "\n",
       "                                                Poem Sentiment Analysis  \n",
       "0  I’m all alone in this world, she said,\\nAin’t ...           negative  \n",
       "1  Good evening, daddy!\\nI know you’ve heard\\nThe...           positive  \n",
       "2  Must be the black Maria\\nThat I see,\\nThe blac...           positive  \n",
       "3  YOUR NUMBER'S COMING OUT! BOUQUETS I'LL SEND Y...           positive  \n",
       "4  Clean the spittoons, boy.\\n      Detroit,\\n   ...           positive  "
      ]
     },
     "execution_count": 53,
     "metadata": {},
     "output_type": "execute_result"
    }
   ],
   "source": [
    "df.head()"
   ]
  },
  {
   "cell_type": "code",
   "execution_count": 74,
   "metadata": {},
   "outputs": [],
   "source": [
    "df3 = df.groupby(['Poet', 'Sentiment Analysis'])['Poem'].count()"
   ]
  },
  {
   "cell_type": "code",
   "execution_count": 75,
   "metadata": {},
   "outputs": [
    {
     "data": {
      "text/plain": [
       "Poet                       Sentiment Analysis\n",
       " JAYNE CORTEZ              negative              5\n",
       "                           positive              2\n",
       "ALICE MOORE DUNBAR-NELSON  negative              2\n",
       "                           positive              6\n",
       "AMIRI BARAKA               negative              4\n",
       "Name: Poem, dtype: int64"
      ]
     },
     "execution_count": 75,
     "metadata": {},
     "output_type": "execute_result"
    }
   ],
   "source": [
    "df3.head()"
   ]
  },
  {
   "cell_type": "code",
   "execution_count": 76,
   "metadata": {},
   "outputs": [
    {
     "data": {
      "text/plain": [
       "<matplotlib.axes._subplots.AxesSubplot at 0x2ab28a9b708>"
      ]
     },
     "execution_count": 76,
     "metadata": {},
     "output_type": "execute_result"
    },
    {
     "data": {
      "image/png": "[encoded data removed]",
      "text/plain": [
       "<Figure size 1080x720 with 1 Axes>"
      ]
     },
     "metadata": {
      "needs_background": "light"
     },
     "output_type": "display_data"
    }
   ],
   "source": [
    "df3.unstack().plot(kind='bar',figsize = (15, 10))"
   ]
  },
  {
   "cell_type": "code",
   "execution_count": 78,
   "metadata": {},
   "outputs": [],
   "source": [
    "df4 = df.groupby('Sentiment Analysis').count()"
   ]
  },
  {
   "cell_type": "code",
   "execution_count": 80,
   "metadata": {},
   "outputs": [
    {
     "data": {
      "text/html": [
       "<div>\n",
       "<style scoped>\n",
       "    .dataframe tbody tr th:only-of-type {\n",
       "        vertical-align: middle;\n",
       "    }\n",
       "\n",
       "    .dataframe tbody tr th {\n",
       "        vertical-align: top;\n",
       "    }\n",
       "\n",
       "    .dataframe thead th {\n",
       "        text-align: right;\n",
       "    }\n",
       "</style>\n",
       "<table border=\"1\" class=\"dataframe\">\n",
       "  <thead>\n",
       "    <tr style=\"text-align: right;\">\n",
       "      <th></th>\n",
       "      <th>Poet</th>\n",
       "      <th>Title</th>\n",
       "      <th>Poem</th>\n",
       "    </tr>\n",
       "    <tr>\n",
       "      <th>Sentiment Analysis</th>\n",
       "      <th></th>\n",
       "      <th></th>\n",
       "      <th></th>\n",
       "    </tr>\n",
       "  </thead>\n",
       "  <tbody>\n",
       "    <tr>\n",
       "      <th>negative</th>\n",
       "      <td>110</td>\n",
       "      <td>110</td>\n",
       "      <td>110</td>\n",
       "    </tr>\n",
       "    <tr>\n",
       "      <th>neutral</th>\n",
       "      <td>4</td>\n",
       "      <td>4</td>\n",
       "      <td>4</td>\n",
       "    </tr>\n",
       "    <tr>\n",
       "      <th>positive</th>\n",
       "      <td>213</td>\n",
       "      <td>213</td>\n",
       "      <td>213</td>\n",
       "    </tr>\n",
       "  </tbody>\n",
       "</table>\n",
       "</div>"
      ],
      "text/plain": [
       "                    Poet  Title  Poem\n",
       "Sentiment Analysis                   \n",
       "negative             110    110   110\n",
       "neutral                4      4     4\n",
       "positive             213    213   213"
      ]
     },
     "execution_count": 80,
     "metadata": {},
     "output_type": "execute_result"
    }
   ],
   "source": [
    "df4"
   ]
  },
  {
   "cell_type": "code",
   "execution_count": 81,
   "metadata": {},
   "outputs": [
    {
     "data": {
      "application/vnd.plotly.v1+json": {
       "config": {
        "plotlyServerURL": "https://plot.ly"
       },
       "data": [
        {
         "domain": {
          "x": [
           0,
           1
          ],
          "y": [
           0,
           1
          ]
         },
         "hoverlabel": {
          "namelength": 0
         },
         "hovertemplate": "label=%{label}<br>Poet=%{value}",
         "labels": [
          "negative",
          "neutral",
          "positive"
         ],
         "legendgroup": "",
         "name": "",
         "showlegend": true,
         "type": "pie",
         "values": [
          110,
          4,
          213
         ]
        }
       ],
       "layout": {
        "legend": {
         "tracegroupgap": 0
        },
        "margin": {
         "t": 60
        },
        "template": {
         "data": {
          "bar": [
           {
            "error_x": {
             "color": "#2a3f5f"
            },
            "error_y": {
             "color": "#2a3f5f"
            },
            "marker": {
             "line": {
              "color": "#E5ECF6",
              "width": 0.5
             }
            },
            "type": "bar"
           }
          ],
          "barpolar": [
           {
            "marker": {
             "line": {
              "color": "#E5ECF6",
              "width": 0.5
             }
            },
            "type": "barpolar"
           }
          ],
          "carpet": [
           {
            "aaxis": {
             "endlinecolor": "#2a3f5f",
             "gridcolor": "white",
             "linecolor": "white",
             "minorgridcolor": "white",
             "startlinecolor": "#2a3f5f"
            },
            "baxis": {
             "endlinecolor": "#2a3f5f",
             "gridcolor": "white",
             "linecolor": "white",
             "minorgridcolor": "white",
             "startlinecolor": "#2a3f5f"
            },
            "type": "carpet"
           }
          ],
          "choropleth": [
           {
            "colorbar": {
             "outlinewidth": 0,
             "ticks": ""
            },
            "type": "choropleth"
           }
          ],
          "contour": [
           {
            "colorbar": {
             "outlinewidth": 0,
             "ticks": ""
            },
            "colorscale": [
             [
              0,
              "#0d0887"
             ],
             [
              0.1111111111111111,
              "#46039f"
             ],
             [
              0.2222222222222222,
              "#7201a8"
             ],
             [
              0.3333333333333333,
              "#9c179e"
             ],
             [
              0.4444444444444444,
              "#bd3786"
             ],
             [
              0.5555555555555556,
              "#d8576b"
             ],
             [
              0.6666666666666666,
              "#ed7953"
             ],
             [
              0.7777777777777778,
              "#fb9f3a"
             ],
             [
              0.8888888888888888,
              "#fdca26"
             ],
             [
              1,
              "#f0f921"
             ]
            ],
            "type": "contour"
           }
          ],
          "contourcarpet": [
           {
            "colorbar": {
             "outlinewidth": 0,
             "ticks": ""
            },
            "type": "contourcarpet"
           }
          ],
          "heatmap": [
           {
            "colorbar": {
             "outlinewidth": 0,
             "ticks": ""
            },
            "colorscale": [
             [
              0,
              "#0d0887"
             ],
             [
              0.1111111111111111,
              "#46039f"
             ],
             [
              0.2222222222222222,
              "#7201a8"
             ],
             [
              0.3333333333333333,
              "#9c179e"
             ],
             [
              0.4444444444444444,
              "#bd3786"
             ],
             [
              0.5555555555555556,
              "#d8576b"
             ],
             [
              0.6666666666666666,
              "#ed7953"
             ],
             [
              0.7777777777777778,
              "#fb9f3a"
             ],
             [
              0.8888888888888888,
              "#fdca26"
             ],
             [
              1,
              "#f0f921"
             ]
            ],
            "type": "heatmap"
           }
          ],
          "heatmapgl": [
           {
            "colorbar": {
             "outlinewidth": 0,
             "ticks": ""
            },
            "colorscale": [
             [
              0,
              "#0d0887"
             ],
             [
              0.1111111111111111,
              "#46039f"
             ],
             [
              0.2222222222222222,
              "#7201a8"
             ],
             [
              0.3333333333333333,
              "#9c179e"
             ],
             [
              0.4444444444444444,
              "#bd3786"
             ],
             [
              0.5555555555555556,
              "#d8576b"
             ],
             [
              0.6666666666666666,
              "#ed7953"
             ],
             [
              0.7777777777777778,
              "#fb9f3a"
             ],
             [
              0.8888888888888888,
              "#fdca26"
             ],
             [
              1,
              "#f0f921"
             ]
            ],
            "type": "heatmapgl"
           }
          ],
          "histogram": [
           {
            "marker": {
             "colorbar": {
              "outlinewidth": 0,
              "ticks": ""
             }
            },
            "type": "histogram"
           }
          ],
          "histogram2d": [
           {
            "colorbar": {
             "outlinewidth": 0,
             "ticks": ""
            },
            "colorscale": [
             [
              0,
              "#0d0887"
             ],
             [
              0.1111111111111111,
              "#46039f"
             ],
             [
              0.2222222222222222,
              "#7201a8"
             ],
             [
              0.3333333333333333,
              "#9c179e"
             ],
             [
              0.4444444444444444,
              "#bd3786"
             ],
             [
              0.5555555555555556,
              "#d8576b"
             ],
             [
              0.6666666666666666,
              "#ed7953"
             ],
             [
              0.7777777777777778,
              "#fb9f3a"
             ],
             [
              0.8888888888888888,
              "#fdca26"
             ],
             [
              1,
              "#f0f921"
             ]
            ],
            "type": "histogram2d"
           }
          ],
          "histogram2dcontour": [
           {
            "colorbar": {
             "outlinewidth": 0,
             "ticks": ""
            },
            "colorscale": [
             [
              0,
              "#0d0887"
             ],
             [
              0.1111111111111111,
              "#46039f"
             ],
             [
              0.2222222222222222,
              "#7201a8"
             ],
             [
              0.3333333333333333,
              "#9c179e"
             ],
             [
              0.4444444444444444,
              "#bd3786"
             ],
             [
              0.5555555555555556,
              "#d8576b"
             ],
             [
              0.6666666666666666,
              "#ed7953"
             ],
             [
              0.7777777777777778,
              "#fb9f3a"
             ],
             [
              0.8888888888888888,
              "#fdca26"
             ],
             [
              1,
              "#f0f921"
             ]
            ],
            "type": "histogram2dcontour"
           }
          ],
          "mesh3d": [
           {
            "colorbar": {
             "outlinewidth": 0,
             "ticks": ""
            },
            "type": "mesh3d"
           }
          ],
          "parcoords": [
           {
            "line": {
             "colorbar": {
              "outlinewidth": 0,
              "ticks": ""
             }
            },
            "type": "parcoords"
           }
          ],
          "pie": [
           {
            "automargin": true,
            "type": "pie"
           }
          ],
          "scatter": [
           {
            "marker": {
             "colorbar": {
              "outlinewidth": 0,
              "ticks": ""
             }
            },
            "type": "scatter"
           }
          ],
          "scatter3d": [
           {
            "line": {
             "colorbar": {
              "outlinewidth": 0,
              "ticks": ""
             }
            },
            "marker": {
             "colorbar": {
              "outlinewidth": 0,
              "ticks": ""
             }
            },
            "type": "scatter3d"
           }
          ],
          "scattercarpet": [
           {
            "marker": {
             "colorbar": {
              "outlinewidth": 0,
              "ticks": ""
             }
            },
            "type": "scattercarpet"
           }
          ],
          "scattergeo": [
           {
            "marker": {
             "colorbar": {
              "outlinewidth": 0,
              "ticks": ""
             }
            },
            "type": "scattergeo"
           }
          ],
          "scattergl": [
           {
            "marker": {
             "colorbar": {
              "outlinewidth": 0,
              "ticks": ""
             }
            },
            "type": "scattergl"
           }
          ],
          "scattermapbox": [
           {
            "marker": {
             "colorbar": {
              "outlinewidth": 0,
              "ticks": ""
             }
            },
            "type": "scattermapbox"
           }
          ],
          "scatterpolar": [
           {
            "marker": {
             "colorbar": {
              "outlinewidth": 0,
              "ticks": ""
             }
            },
            "type": "scatterpolar"
           }
          ],
          "scatterpolargl": [
           {
            "marker": {
             "colorbar": {
              "outlinewidth": 0,
              "ticks": ""
             }
            },
            "type": "scatterpolargl"
           }
          ],
          "scatterternary": [
           {
            "marker": {
             "colorbar": {
              "outlinewidth": 0,
              "ticks": ""
             }
            },
            "type": "scatterternary"
           }
          ],
          "surface": [
           {
            "colorbar": {
             "outlinewidth": 0,
             "ticks": ""
            },
            "colorscale": [
             [
              0,
              "#0d0887"
             ],
             [
              0.1111111111111111,
              "#46039f"
             ],
             [
              0.2222222222222222,
              "#7201a8"
             ],
             [
              0.3333333333333333,
              "#9c179e"
             ],
             [
              0.4444444444444444,
              "#bd3786"
             ],
             [
              0.5555555555555556,
              "#d8576b"
             ],
             [
              0.6666666666666666,
              "#ed7953"
             ],
             [
              0.7777777777777778,
              "#fb9f3a"
             ],
             [
              0.8888888888888888,
              "#fdca26"
             ],
             [
              1,
              "#f0f921"
             ]
            ],
            "type": "surface"
           }
          ],
          "table": [
           {
            "cells": {
             "fill": {
              "color": "#EBF0F8"
             },
             "line": {
              "color": "white"
             }
            },
            "header": {
             "fill": {
              "color": "#C8D4E3"
             },
             "line": {
              "color": "white"
             }
            },
            "type": "table"
           }
          ]
         },
         "layout": {
          "annotationdefaults": {
           "arrowcolor": "#2a3f5f",
           "arrowhead": 0,
           "arrowwidth": 1
          },
          "coloraxis": {
           "colorbar": {
            "outlinewidth": 0,
            "ticks": ""
           }
          },
          "colorscale": {
           "diverging": [
            [
             0,
             "#8e0152"
            ],
            [
             0.1,
             "#c51b7d"
            ],
            [
             0.2,
             "#de77ae"
            ],
            [
             0.3,
             "#f1b6da"
            ],
            [
             0.4,
             "#fde0ef"
            ],
            [
             0.5,
             "#f7f7f7"
            ],
            [
             0.6,
             "#e6f5d0"
            ],
            [
             0.7,
             "#b8e186"
            ],
            [
             0.8,
             "#7fbc41"
            ],
            [
             0.9,
             "#4d9221"
            ],
            [
             1,
             "#276419"
            ]
           ],
           "sequential": [
            [
             0,
             "#0d0887"
            ],
            [
             0.1111111111111111,
             "#46039f"
            ],
            [
             0.2222222222222222,
             "#7201a8"
            ],
            [
             0.3333333333333333,
             "#9c179e"
            ],
            [
             0.4444444444444444,
             "#bd3786"
            ],
            [
             0.5555555555555556,
             "#d8576b"
            ],
            [
             0.6666666666666666,
             "#ed7953"
            ],
            [
             0.7777777777777778,
             "#fb9f3a"
            ],
            [
             0.8888888888888888,
             "#fdca26"
            ],
            [
             1,
             "#f0f921"
            ]
           ],
           "sequentialminus": [
            [
             0,
             "#0d0887"
            ],
            [
             0.1111111111111111,
             "#46039f"
            ],
            [
             0.2222222222222222,
             "#7201a8"
            ],
            [
             0.3333333333333333,
             "#9c179e"
            ],
            [
             0.4444444444444444,
             "#bd3786"
            ],
            [
             0.5555555555555556,
             "#d8576b"
            ],
            [
             0.6666666666666666,
             "#ed7953"
            ],
            [
             0.7777777777777778,
             "#fb9f3a"
            ],
            [
             0.8888888888888888,
             "#fdca26"
            ],
            [
             1,
             "#f0f921"
            ]
           ]
          },
          "colorway": [
           "#636efa",
           "#EF553B",
           "#00cc96",
           "#ab63fa",
           "#FFA15A",
           "#19d3f3",
           "#FF6692",
           "#B6E880",
           "#FF97FF",
           "#FECB52"
          ],
          "font": {
           "color": "#2a3f5f"
          },
          "geo": {
           "bgcolor": "white",
           "lakecolor": "white",
           "landcolor": "#E5ECF6",
           "showlakes": true,
           "showland": true,
           "subunitcolor": "white"
          },
          "hoverlabel": {
           "align": "left"
          },
          "hovermode": "closest",
          "mapbox": {
           "style": "light"
          },
          "paper_bgcolor": "white",
          "plot_bgcolor": "#E5ECF6",
          "polar": {
           "angularaxis": {
            "gridcolor": "white",
            "linecolor": "white",
            "ticks": ""
           },
           "bgcolor": "#E5ECF6",
           "radialaxis": {
            "gridcolor": "white",
            "linecolor": "white",
            "ticks": ""
           }
          },
          "scene": {
           "xaxis": {
            "backgroundcolor": "#E5ECF6",
            "gridcolor": "white",
            "gridwidth": 2,
            "linecolor": "white",
            "showbackground": true,
            "ticks": "",
            "zerolinecolor": "white"
           },
           "yaxis": {
            "backgroundcolor": "#E5ECF6",
            "gridcolor": "white",
            "gridwidth": 2,
            "linecolor": "white",
            "showbackground": true,
            "ticks": "",
            "zerolinecolor": "white"
           },
           "zaxis": {
            "backgroundcolor": "#E5ECF6",
            "gridcolor": "white",
            "gridwidth": 2,
            "linecolor": "white",
            "showbackground": true,
            "ticks": "",
            "zerolinecolor": "white"
           }
          },
          "shapedefaults": {
           "line": {
            "color": "#2a3f5f"
           }
          },
          "ternary": {
           "aaxis": {
            "gridcolor": "white",
            "linecolor": "white",
            "ticks": ""
           },
           "baxis": {
            "gridcolor": "white",
            "linecolor": "white",
            "ticks": ""
           },
           "bgcolor": "#E5ECF6",
           "caxis": {
            "gridcolor": "white",
            "linecolor": "white",
            "ticks": ""
           }
          },
          "title": {
           "x": 0.05
          },
          "xaxis": {
           "automargin": true,
           "gridcolor": "white",
           "linecolor": "white",
           "ticks": "",
           "title": {
            "standoff": 15
           },
           "zerolinecolor": "white",
           "zerolinewidth": 2
          },
          "yaxis": {
           "automargin": true,
           "gridcolor": "white",
           "linecolor": "white",
           "ticks": "",
           "title": {
            "standoff": 15
           },
           "zerolinecolor": "white",
           "zerolinewidth": 2
          }
         }
        }
       }
      },
      "text/html": [
       "<div>\n",
       "        \n",
       "        \n",
       "            <div id=\"043594b0-6075-4814-9078-b58eae6bbe83\" class=\"plotly-graph-div\" style=\"height:525px; width:100%;\"></div>\n",
       "            <script type=\"text/javascript\">\n",
       "                require([\"plotly\"], function(Plotly) {\n",
       "                    window.PLOTLYENV=window.PLOTLYENV || {};\n",
       "                    \n",
       "                if (document.getElementById(\"043594b0-6075-4814-9078-b58eae6bbe83\")) {\n",
       "                    Plotly.newPlot(\n",
       "                        '043594b0-6075-4814-9078-b58eae6bbe83',\n",
       "                        [{\"domain\": {\"x\": [0.0, 1.0], \"y\": [0.0, 1.0]}, \"hoverlabel\": {\"namelength\": 0}, \"hovertemplate\": \"label=%{label}<br>Poet=%{value}\", \"labels\": [\"negative\", \"neutral\", \"positive\"], \"legendgroup\": \"\", \"name\": \"\", \"showlegend\": true, \"type\": \"pie\", \"values\": [110, 4, 213]}],\n",
       "                        {\"legend\": {\"tracegroupgap\": 0}, \"margin\": {\"t\": 60}, \"template\": {\"data\": {\"bar\": [{\"error_x\": {\"color\": \"#2a3f5f\"}, \"error_y\": {\"color\": \"#2a3f5f\"}, \"marker\": {\"line\": {\"color\": \"#E5ECF6\", \"width\": 0.5}}, \"type\": \"bar\"}], \"barpolar\": [{\"marker\": {\"line\": {\"color\": \"#E5ECF6\", \"width\": 0.5}}, \"type\": \"barpolar\"}], \"carpet\": [{\"aaxis\": {\"endlinecolor\": \"#2a3f5f\", \"gridcolor\": \"white\", \"linecolor\": \"white\", \"minorgridcolor\": \"white\", \"startlinecolor\": \"#2a3f5f\"}, \"baxis\": {\"endlinecolor\": \"#2a3f5f\", \"gridcolor\": \"white\", \"linecolor\": \"white\", \"minorgridcolor\": \"white\", \"startlinecolor\": \"#2a3f5f\"}, \"type\": \"carpet\"}], \"choropleth\": [{\"colorbar\": {\"outlinewidth\": 0, \"ticks\": \"\"}, \"type\": \"choropleth\"}], \"contour\": [{\"colorbar\": {\"outlinewidth\": 0, \"ticks\": \"\"}, \"colorscale\": [[0.0, \"#0d0887\"], [0.1111111111111111, \"#46039f\"], [0.2222222222222222, \"#7201a8\"], [0.3333333333333333, \"#9c179e\"], [0.4444444444444444, \"#bd3786\"], [0.5555555555555556, \"#d8576b\"], [0.6666666666666666, \"#ed7953\"], [0.7777777777777778, \"#fb9f3a\"], [0.8888888888888888, \"#fdca26\"], [1.0, \"#f0f921\"]], \"type\": \"contour\"}], \"contourcarpet\": [{\"colorbar\": {\"outlinewidth\": 0, \"ticks\": \"\"}, \"type\": \"contourcarpet\"}], \"heatmap\": [{\"colorbar\": {\"outlinewidth\": 0, \"ticks\": \"\"}, \"colorscale\": [[0.0, \"#0d0887\"], [0.1111111111111111, \"#46039f\"], [0.2222222222222222, \"#7201a8\"], [0.3333333333333333, \"#9c179e\"], [0.4444444444444444, \"#bd3786\"], [0.5555555555555556, \"#d8576b\"], [0.6666666666666666, \"#ed7953\"], [0.7777777777777778, \"#fb9f3a\"], [0.8888888888888888, \"#fdca26\"], [1.0, \"#f0f921\"]], \"type\": \"heatmap\"}], \"heatmapgl\": [{\"colorbar\": {\"outlinewidth\": 0, \"ticks\": \"\"}, \"colorscale\": [[0.0, \"#0d0887\"], [0.1111111111111111, \"#46039f\"], [0.2222222222222222, \"#7201a8\"], [0.3333333333333333, \"#9c179e\"], [0.4444444444444444, \"#bd3786\"], [0.5555555555555556, \"#d8576b\"], [0.6666666666666666, \"#ed7953\"], [0.7777777777777778, \"#fb9f3a\"], [0.8888888888888888, \"#fdca26\"], [1.0, \"#f0f921\"]], \"type\": \"heatmapgl\"}], \"histogram\": [{\"marker\": {\"colorbar\": {\"outlinewidth\": 0, \"ticks\": \"\"}}, \"type\": \"histogram\"}], \"histogram2d\": [{\"colorbar\": {\"outlinewidth\": 0, \"ticks\": \"\"}, \"colorscale\": [[0.0, \"#0d0887\"], [0.1111111111111111, \"#46039f\"], [0.2222222222222222, \"#7201a8\"], [0.3333333333333333, \"#9c179e\"], [0.4444444444444444, \"#bd3786\"], [0.5555555555555556, \"#d8576b\"], [0.6666666666666666, \"#ed7953\"], [0.7777777777777778, \"#fb9f3a\"], [0.8888888888888888, \"#fdca26\"], [1.0, \"#f0f921\"]], \"type\": \"histogram2d\"}], \"histogram2dcontour\": [{\"colorbar\": {\"outlinewidth\": 0, \"ticks\": \"\"}, \"colorscale\": [[0.0, \"#0d0887\"], [0.1111111111111111, \"#46039f\"], [0.2222222222222222, \"#7201a8\"], [0.3333333333333333, \"#9c179e\"], [0.4444444444444444, \"#bd3786\"], [0.5555555555555556, \"#d8576b\"], [0.6666666666666666, \"#ed7953\"], [0.7777777777777778, \"#fb9f3a\"], [0.8888888888888888, \"#fdca26\"], [1.0, \"#f0f921\"]], \"type\": \"histogram2dcontour\"}], \"mesh3d\": [{\"colorbar\": {\"outlinewidth\": 0, \"ticks\": \"\"}, \"type\": \"mesh3d\"}], \"parcoords\": [{\"line\": {\"colorbar\": {\"outlinewidth\": 0, \"ticks\": \"\"}}, \"type\": \"parcoords\"}], \"pie\": [{\"automargin\": true, \"type\": \"pie\"}], \"scatter\": [{\"marker\": {\"colorbar\": {\"outlinewidth\": 0, \"ticks\": \"\"}}, \"type\": \"scatter\"}], \"scatter3d\": [{\"line\": {\"colorbar\": {\"outlinewidth\": 0, \"ticks\": \"\"}}, \"marker\": {\"colorbar\": {\"outlinewidth\": 0, \"ticks\": \"\"}}, \"type\": \"scatter3d\"}], \"scattercarpet\": [{\"marker\": {\"colorbar\": {\"outlinewidth\": 0, \"ticks\": \"\"}}, \"type\": \"scattercarpet\"}], \"scattergeo\": [{\"marker\": {\"colorbar\": {\"outlinewidth\": 0, \"ticks\": \"\"}}, \"type\": \"scattergeo\"}], \"scattergl\": [{\"marker\": {\"colorbar\": {\"outlinewidth\": 0, \"ticks\": \"\"}}, \"type\": \"scattergl\"}], \"scattermapbox\": [{\"marker\": {\"colorbar\": {\"outlinewidth\": 0, \"ticks\": \"\"}}, \"type\": \"scattermapbox\"}], \"scatterpolar\": [{\"marker\": {\"colorbar\": {\"outlinewidth\": 0, \"ticks\": \"\"}}, \"type\": \"scatterpolar\"}], \"scatterpolargl\": [{\"marker\": {\"colorbar\": {\"outlinewidth\": 0, \"ticks\": \"\"}}, \"type\": \"scatterpolargl\"}], \"scatterternary\": [{\"marker\": {\"colorbar\": {\"outlinewidth\": 0, \"ticks\": \"\"}}, \"type\": \"scatterternary\"}], \"surface\": [{\"colorbar\": {\"outlinewidth\": 0, \"ticks\": \"\"}, \"colorscale\": [[0.0, \"#0d0887\"], [0.1111111111111111, \"#46039f\"], [0.2222222222222222, \"#7201a8\"], [0.3333333333333333, \"#9c179e\"], [0.4444444444444444, \"#bd3786\"], [0.5555555555555556, \"#d8576b\"], [0.6666666666666666, \"#ed7953\"], [0.7777777777777778, \"#fb9f3a\"], [0.8888888888888888, \"#fdca26\"], [1.0, \"#f0f921\"]], \"type\": \"surface\"}], \"table\": [{\"cells\": {\"fill\": {\"color\": \"#EBF0F8\"}, \"line\": {\"color\": \"white\"}}, \"header\": {\"fill\": {\"color\": \"#C8D4E3\"}, \"line\": {\"color\": \"white\"}}, \"type\": \"table\"}]}, \"layout\": {\"annotationdefaults\": {\"arrowcolor\": \"#2a3f5f\", \"arrowhead\": 0, \"arrowwidth\": 1}, \"coloraxis\": {\"colorbar\": {\"outlinewidth\": 0, \"ticks\": \"\"}}, \"colorscale\": {\"diverging\": [[0, \"#8e0152\"], [0.1, \"#c51b7d\"], [0.2, \"#de77ae\"], [0.3, \"#f1b6da\"], [0.4, \"#fde0ef\"], [0.5, \"#f7f7f7\"], [0.6, \"#e6f5d0\"], [0.7, \"#b8e186\"], [0.8, \"#7fbc41\"], [0.9, \"#4d9221\"], [1, \"#276419\"]], \"sequential\": [[0.0, \"#0d0887\"], [0.1111111111111111, \"#46039f\"], [0.2222222222222222, \"#7201a8\"], [0.3333333333333333, \"#9c179e\"], [0.4444444444444444, \"#bd3786\"], [0.5555555555555556, \"#d8576b\"], [0.6666666666666666, \"#ed7953\"], [0.7777777777777778, \"#fb9f3a\"], [0.8888888888888888, \"#fdca26\"], [1.0, \"#f0f921\"]], \"sequentialminus\": [[0.0, \"#0d0887\"], [0.1111111111111111, \"#46039f\"], [0.2222222222222222, \"#7201a8\"], [0.3333333333333333, \"#9c179e\"], [0.4444444444444444, \"#bd3786\"], [0.5555555555555556, \"#d8576b\"], [0.6666666666666666, \"#ed7953\"], [0.7777777777777778, \"#fb9f3a\"], [0.8888888888888888, \"#fdca26\"], [1.0, \"#f0f921\"]]}, \"colorway\": [\"#636efa\", \"#EF553B\", \"#00cc96\", \"#ab63fa\", \"#FFA15A\", \"#19d3f3\", \"#FF6692\", \"#B6E880\", \"#FF97FF\", \"#FECB52\"], \"font\": {\"color\": \"#2a3f5f\"}, \"geo\": {\"bgcolor\": \"white\", \"lakecolor\": \"white\", \"landcolor\": \"#E5ECF6\", \"showlakes\": true, \"showland\": true, \"subunitcolor\": \"white\"}, \"hoverlabel\": {\"align\": \"left\"}, \"hovermode\": \"closest\", \"mapbox\": {\"style\": \"light\"}, \"paper_bgcolor\": \"white\", \"plot_bgcolor\": \"#E5ECF6\", \"polar\": {\"angularaxis\": {\"gridcolor\": \"white\", \"linecolor\": \"white\", \"ticks\": \"\"}, \"bgcolor\": \"#E5ECF6\", \"radialaxis\": {\"gridcolor\": \"white\", \"linecolor\": \"white\", \"ticks\": \"\"}}, \"scene\": {\"xaxis\": {\"backgroundcolor\": \"#E5ECF6\", \"gridcolor\": \"white\", \"gridwidth\": 2, \"linecolor\": \"white\", \"showbackground\": true, \"ticks\": \"\", \"zerolinecolor\": \"white\"}, \"yaxis\": {\"backgroundcolor\": \"#E5ECF6\", \"gridcolor\": \"white\", \"gridwidth\": 2, \"linecolor\": \"white\", \"showbackground\": true, \"ticks\": \"\", \"zerolinecolor\": \"white\"}, \"zaxis\": {\"backgroundcolor\": \"#E5ECF6\", \"gridcolor\": \"white\", \"gridwidth\": 2, \"linecolor\": \"white\", \"showbackground\": true, \"ticks\": \"\", \"zerolinecolor\": \"white\"}}, \"shapedefaults\": {\"line\": {\"color\": \"#2a3f5f\"}}, \"ternary\": {\"aaxis\": {\"gridcolor\": \"white\", \"linecolor\": \"white\", \"ticks\": \"\"}, \"baxis\": {\"gridcolor\": \"white\", \"linecolor\": \"white\", \"ticks\": \"\"}, \"bgcolor\": \"#E5ECF6\", \"caxis\": {\"gridcolor\": \"white\", \"linecolor\": \"white\", \"ticks\": \"\"}}, \"title\": {\"x\": 0.05}, \"xaxis\": {\"automargin\": true, \"gridcolor\": \"white\", \"linecolor\": \"white\", \"ticks\": \"\", \"title\": {\"standoff\": 15}, \"zerolinecolor\": \"white\", \"zerolinewidth\": 2}, \"yaxis\": {\"automargin\": true, \"gridcolor\": \"white\", \"linecolor\": \"white\", \"ticks\": \"\", \"title\": {\"standoff\": 15}, \"zerolinecolor\": \"white\", \"zerolinewidth\": 2}}}},\n",
       "                        {\"responsive\": true}\n",
       "                    ).then(function(){\n",
       "                            \n",
       "var gd = document.getElementById('043594b0-6075-4814-9078-b58eae6bbe83');\n",
       "var x = new MutationObserver(function (mutations, observer) {{\n",
       "        var display = window.getComputedStyle(gd).display;\n",
       "        if (!display || display === 'none') {{\n",
       "            console.log([gd, 'removed!']);\n",
       "            Plotly.purge(gd);\n",
       "            observer.disconnect();\n",
       "        }}\n",
       "}});\n",
       "\n",
       "// Listen for the removal of the full notebook cells\n",
       "var notebookContainer = gd.closest('#notebook-container');\n",
       "if (notebookContainer) {{\n",
       "    x.observe(notebookContainer, {childList: true});\n",
       "}}\n",
       "\n",
       "// Listen for the clearing of the current output cell\n",
       "var outputEl = gd.closest('.output');\n",
       "if (outputEl) {{\n",
       "    x.observe(outputEl, {childList: true});\n",
       "}}\n",
       "\n",
       "                        })\n",
       "                };\n",
       "                });\n",
       "            </script>\n",
       "        </div>"
      ]
     },
     "metadata": {},
     "output_type": "display_data"
    }
   ],
   "source": [
    "fig = px.pie(df4, values='Poet', names=df4.index)\n",
    "fig.show()"
   ]
  },
  {
   "cell_type": "code",
   "execution_count": 121,
   "metadata": {},
   "outputs": [],
   "source": [
    "from nltk.corpus import stopwords\n",
    "stop_words = stopwords.words('english')\n",
    "stop_words.extend(['from', 'subject', 're', 'edu', 'use', 'go','to', \"I'm\", 'in', 'this'])"
   ]
  },
  {
   "cell_type": "code",
   "execution_count": 147,
   "metadata": {},
   "outputs": [],
   "source": [
    "data = df.Poem.values.tolist()"
   ]
  },
  {
   "cell_type": "code",
   "execution_count": 148,
   "metadata": {},
   "outputs": [],
   "source": [
    "data = [re.sub('\\n', ' ', sent) for sent in data]\n"
   ]
  },
  {
   "cell_type": "code",
   "execution_count": 149,
   "metadata": {},
   "outputs": [
    {
     "name": "stdout",
     "output_type": "stream",
     "text": [
      "['I’m all alone in this world, she said, Ain’t got nobody to share my bed, '\n",
      " 'Ain’t got nobody to hold my hand— The truth of the matter’s I ain’t got no '\n",
      " 'man.  Big Boy opened his mouth and said, Trouble with you is You ain’t got '\n",
      " 'no head! If you had a head and used your mind You could have me with you All '\n",
      " 'the time.  She answered, Babe, what must I do?  He said, Share your bed— And '\n",
      " 'your money, too.']\n"
     ]
    }
   ],
   "source": [
    "pprint(data[:1])\n"
   ]
  },
  {
   "cell_type": "code",
   "execution_count": 125,
   "metadata": {},
   "outputs": [
    {
     "name": "stdout",
     "output_type": "stream",
     "text": [
      "[['all', 'alone', 'in', 'this', 'world', 'she', 'said', 'ain', 'got', 'nobody', 'to', 'share', 'my', 'bed', 'ain', 'got', 'nobody', 'to', 'hold', 'my', 'hand', 'the', 'truth', 'of', 'the', 'matter', 'ain', 'got', 'no', 'man', 'big', 'boy', 'opened', 'his', 'mouth', 'and', 'said', 'trouble', 'with', 'you', 'is', 'you', 'ain', 'got', 'no', 'head', 'if', 'you', 'had', 'head', 'and', 'used', 'your', 'mind', 'you', 'could', 'have', 'me', 'with', 'you', 'all', 'the', 'time', 'she', 'answered', 'babe', 'what', 'must', 'do', 'he', 'said', 'share', 'your', 'bed', 'and', 'your', 'money', 'too']]\n"
     ]
    }
   ],
   "source": [
    "def sent_to_words(sentences):\n",
    "    for sentence in sentences:\n",
    "        yield(gensim.utils.simple_preprocess(str(sentence), deacc=True))  # deacc=True removes punctuations\n",
    "\n",
    "data_words = list(sent_to_words(data))\n",
    "\n",
    "print(data_words[:1])"
   ]
  },
  {
   "cell_type": "code",
   "execution_count": 126,
   "metadata": {},
   "outputs": [
    {
     "name": "stdout",
     "output_type": "stream",
     "text": [
      "['all', 'alone', 'in', 'this', 'world', 'she', 'said', 'ain_got', 'nobody', 'to', 'share', 'my', 'bed', 'ain_got', 'nobody', 'to', 'hold', 'my', 'hand', 'the', 'truth', 'of', 'the', 'matter', 'ain_got', 'no', 'man', 'big', 'boy', 'opened', 'his', 'mouth', 'and', 'said', 'trouble', 'with', 'you', 'is', 'you', 'ain_got', 'no', 'head', 'if', 'you', 'had', 'head', 'and', 'used', 'your', 'mind', 'you', 'could', 'have', 'me', 'with', 'you', 'all', 'the', 'time', 'she', 'answered', 'babe', 'what', 'must', 'do', 'he', 'said', 'share', 'your', 'bed', 'and', 'your', 'money', 'too']\n"
     ]
    }
   ],
   "source": [
    "bigram = gensim.models.Phrases(data_words, min_count=5, threshold=100) # higher threshold fewer phrases.\n",
    "trigram = gensim.models.Phrases(bigram[data_words], threshold=100)  \n",
    "\n",
    "# Faster way to get a sentence clubbed as a trigram/bigram\n",
    "bigram_mod = gensim.models.phrases.Phraser(bigram)\n",
    "trigram_mod = gensim.models.phrases.Phraser(trigram)\n",
    "\n",
    "# See trigram example\n",
    "print(trigram_mod[bigram_mod[data_words[0]]])"
   ]
  },
  {
   "cell_type": "code",
   "execution_count": 127,
   "metadata": {},
   "outputs": [],
   "source": [
    "# Define functions for stopwords, bigrams, trigrams and lemmatization\n",
    "def remove_stopwords(texts):\n",
    "    return [[word for word in simple_preprocess(str(doc)) if word not in stop_words] for doc in texts]\n",
    "\n",
    "def make_bigrams(texts):\n",
    "    return [bigram_mod[doc] for doc in texts]\n",
    "\n",
    "def make_trigrams(texts):\n",
    "    return [trigram_mod[bigram_mod[doc]] for doc in texts]\n",
    "\n",
    "def lemmatization(texts, allowed_postags=['NOUN', 'ADJ', 'VERB', 'ADV']):\n",
    "    \"\"\"https://spacy.io/api/annotation\"\"\"\n",
    "    texts_out = []\n",
    "    for sent in texts:\n",
    "        doc = nlp(\" \".join(sent)) \n",
    "        texts_out.append([token.lemma_ for token in doc if token.pos_ in allowed_postags])\n",
    "    return texts_out"
   ]
  },
  {
   "cell_type": "code",
   "execution_count": 128,
   "metadata": {},
   "outputs": [
    {
     "name": "stdout",
     "output_type": "stream",
     "text": [
      "[['alone', 'say', 'get', 'share', 'bed', 'get', 'hold', 'hand', 'truth', 'matter', 'get', 'man', 'big', 'boy', 'open', 'mouth', 'say', 'trouble', 'get', 'head', 'head', 'use', 'mind', 'could', 'time', 'answer', 'must', 'say', 'share', 'bed', 'money']]\n"
     ]
    }
   ],
   "source": [
    "# Remove Stop Words\n",
    "data_words_nostops = remove_stopwords(data_words)\n",
    "\n",
    "# Form Bigrams\n",
    "data_words_bigrams = make_bigrams(data_words_nostops)\n",
    "\n",
    "# Initialize spacy 'en' model, keeping only tagger component (for efficiency)\n",
    "# python3 -m spacy download e\n",
    "nlp = spacy.load('en_core_web_sm', disable=['parser', 'ner'])\n",
    "\n",
    "# Do lemmatization keeping only noun, adj, vb, adv\n",
    "data_lemmatized = lemmatization(data_words_bigrams, allowed_postags=['NOUN', 'ADJ', 'VERB', 'ADV'])\n",
    "\n",
    "print(data_lemmatized[:1])"
   ]
  },
  {
   "cell_type": "code",
   "execution_count": 129,
   "metadata": {},
   "outputs": [
    {
     "name": "stdout",
     "output_type": "stream",
     "text": [
      "[[(0, 1), (1, 1), (2, 2), (3, 1), (4, 1), (5, 1), (6, 4), (7, 1), (8, 2), (9, 1), (10, 1), (11, 1), (12, 1), (13, 1), (14, 1), (15, 1), (16, 1), (17, 3), (18, 2), (19, 1), (20, 1), (21, 1), (22, 1)]]\n"
     ]
    }
   ],
   "source": [
    "id2word = corpora.Dictionary(data_lemmatized)\n",
    "\n",
    "# Create Corpus\n",
    "texts = data_lemmatized\n",
    "\n",
    "# Term Document Frequency\n",
    "corpus = [id2word.doc2bow(text) for text in texts]\n",
    "\n",
    "# View\n",
    "print(corpus[:1])"
   ]
  },
  {
   "cell_type": "code",
   "execution_count": 130,
   "metadata": {},
   "outputs": [
    {
     "data": {
      "text/plain": [
       "[[('alone', 1),\n",
       "  ('answer', 1),\n",
       "  ('bed', 2),\n",
       "  ('big', 1),\n",
       "  ('boy', 1),\n",
       "  ('could', 1),\n",
       "  ('get', 4),\n",
       "  ('hand', 1),\n",
       "  ('head', 2),\n",
       "  ('hold', 1),\n",
       "  ('man', 1),\n",
       "  ('matter', 1),\n",
       "  ('mind', 1),\n",
       "  ('money', 1),\n",
       "  ('mouth', 1),\n",
       "  ('must', 1),\n",
       "  ('open', 1),\n",
       "  ('say', 3),\n",
       "  ('share', 2),\n",
       "  ('time', 1),\n",
       "  ('trouble', 1),\n",
       "  ('truth', 1),\n",
       "  ('use', 1)]]"
      ]
     },
     "execution_count": 130,
     "metadata": {},
     "output_type": "execute_result"
    }
   ],
   "source": [
    "[[(id2word[id], freq) for id, freq in cp] for cp in corpus[:1]]"
   ]
  },
  {
   "cell_type": "code",
   "execution_count": 131,
   "metadata": {},
   "outputs": [],
   "source": [
    "# Build LDA model\n",
    "lda_model = gensim.models.ldamodel.LdaModel(corpus=corpus,\n",
    "                                           id2word=id2word,\n",
    "                                           num_topics=10, \n",
    "                                           random_state=100,\n",
    "                                           update_every=1,\n",
    "                                           chunksize=100,\n",
    "                                           passes=10,\n",
    "                                           alpha='auto',\n",
    "                                           per_word_topics=True)"
   ]
  },
  {
   "cell_type": "code",
   "execution_count": 132,
   "metadata": {},
   "outputs": [
    {
     "name": "stdout",
     "output_type": "stream",
     "text": [
      "[(0,\n",
      "  '0.009*\"know\" + 0.008*\"man\" + 0.008*\"love\" + 0.007*\"see\" + 0.007*\"make\" + '\n",
      "  '0.007*\"get\" + 0.006*\"say\" + 0.006*\"would\" + 0.006*\"must\" + 0.006*\"take\"'),\n",
      " (1,\n",
      "  '0.042*\"morning\" + 0.011*\"fish\" + 0.010*\"art\" + 0.009*\"rooster\" + '\n",
      "  '0.005*\"strip\" + 0.004*\"somewhere\" + 0.004*\"world\" + 0.004*\"blue\" + '\n",
      "  '0.004*\"sun\" + 0.004*\"care\"'),\n",
      " (2,\n",
      "  '0.012*\"come\" + 0.009*\"see\" + 0.009*\"black\" + 0.006*\"dream\" + 0.006*\"say\" + '\n",
      "  '0.006*\"face\" + 0.006*\"let\" + 0.006*\"way\" + 0.006*\"leave\" + 0.005*\"night\"'),\n",
      " (3,\n",
      "  '0.013*\"beautiful\" + 0.009*\"pigeon\" + 0.007*\"mask\" + 0.007*\"break\" + '\n",
      "  '0.005*\"organize\" + 0.004*\"thief\" + 0.004*\"sew\" + 0.004*\"many\" + '\n",
      "  '0.004*\"somewhere\" + 0.004*\"death\"'),\n",
      " (4,\n",
      "  '0.017*\"say\" + 0.011*\"man\" + 0.007*\"light\" + 0.007*\"know\" + 0.006*\"go\" + '\n",
      "  '0.005*\"black\" + 0.005*\"wrong\" + 0.005*\"eye\" + 0.004*\"tell\" + 0.004*\"burn\"')]\n"
     ]
    }
   ],
   "source": [
    "pprint(lda_model.print_topics())\n",
    "doc_lda = lda_model[corpus]"
   ]
  },
  {
   "cell_type": "code",
   "execution_count": 133,
   "metadata": {},
   "outputs": [
    {
     "name": "stdout",
     "output_type": "stream",
     "text": [
      "\n",
      "Perplexity:  -8.267319804194676\n"
     ]
    }
   ],
   "source": [
    "print('\\nPerplexity: ', lda_model.log_perplexity(corpus))  # a measure of how good the model is. lower the better.\n"
   ]
  },
  {
   "cell_type": "code",
   "execution_count": 134,
   "metadata": {},
   "outputs": [
    {
     "name": "stdout",
     "output_type": "stream",
     "text": [
      "\n",
      "Coherence Score:  0.29451424744183646\n"
     ]
    }
   ],
   "source": [
    "coherence_model_lda = CoherenceModel(model=lda_model, texts=data_lemmatized, dictionary=id2word, coherence='c_v')\n",
    "coherence_lda = coherence_model_lda.get_coherence()\n",
    "print('\\nCoherence Score: ', coherence_lda)"
   ]
  },
  {
   "cell_type": "code",
   "execution_count": 135,
   "metadata": {},
   "outputs": [
    {
     "name": "stderr",
     "output_type": "stream",
     "text": [
      "c:\\users\\acham\\appdata\\local\\programs\\python\\python37\\lib\\site-packages\\pyLDAvis\\_prepare.py:257: FutureWarning:\n",
      "\n",
      "Sorting because non-concatenation axis is not aligned. A future version\n",
      "of pandas will change to not sort by default.\n",
      "\n",
      "To accept the future behavior, pass 'sort=False'.\n",
      "\n",
      "To retain the current behavior and silence the warning, pass 'sort=True'.\n",
      "\n",
      "\n"
     ]
    },
    {
     "data": {
      "text/html": [
       "\n",
       "<link rel=\"stylesheet\" type=\"text/css\" href=\"https://cdn.rawgit.com/bmabey/pyLDAvis/files/ldavis.v1.0.0.css\">\n",
       "\n",
       "\n",
       "<div id=\"ldavis_el2842029341695306965016843633\"></div>\n",
       "<script type=\"text/javascript\">\n",
       "\n",
       "var ldavis_el2842029341695306965016843633_data = {\"mdsDat\": {\"x\": [-0.13143566018780178, -0.11887448731675203, -0.06936520766652465, 0.12784798304378706, 0.19182737212729117], \"y\": [0.056875401306578324, -0.0014864823782082003, -0.02984807740933987, -0.15829731506052278, 0.13275647354149264], \"topics\": [1, 2, 3, 4, 5], \"cluster\": [1, 1, 1, 1, 1], \"Freq\": [38.05278778076172, 30.239269256591797, 21.635961532592773, 5.413329601287842, 4.6586503982543945]}, \"tinfo\": {\"Category\": [\"Default\", \"Default\", \"Default\", \"Default\", \"Default\", \"Default\", \"Default\", \"Default\", \"Default\", \"Default\", \"Default\", \"Default\", \"Default\", \"Default\", \"Default\", \"Default\", \"Default\", \"Default\", \"Default\", \"Default\", \"Default\", \"Default\", \"Default\", \"Default\", \"Default\", \"Default\", \"Default\", \"Default\", \"Default\", \"Default\", \"Topic1\", \"Topic1\", \"Topic1\", \"Topic1\", \"Topic1\", \"Topic1\", \"Topic1\", \"Topic1\", \"Topic1\", \"Topic1\", \"Topic1\", \"Topic1\", \"Topic1\", \"Topic1\", \"Topic1\", \"Topic1\", \"Topic1\", \"Topic1\", \"Topic1\", \"Topic1\", \"Topic1\", \"Topic1\", \"Topic1\", \"Topic1\", \"Topic1\", \"Topic1\", \"Topic1\", \"Topic1\", \"Topic1\", \"Topic1\", \"Topic1\", \"Topic1\", \"Topic1\", \"Topic1\", \"Topic1\", \"Topic1\", \"Topic1\", \"Topic1\", \"Topic1\", \"Topic1\", \"Topic1\", \"Topic1\", \"Topic1\", \"Topic1\", \"Topic1\", \"Topic1\", \"Topic1\", \"Topic1\", \"Topic1\", \"Topic1\", \"Topic1\", \"Topic1\", \"Topic1\", \"Topic1\", \"Topic1\", \"Topic1\", \"Topic1\", \"Topic1\", \"Topic1\", \"Topic1\", \"Topic1\", \"Topic1\", \"Topic1\", \"Topic1\", \"Topic1\", \"Topic1\", \"Topic1\", \"Topic1\", \"Topic2\", \"Topic2\", \"Topic2\", \"Topic2\", \"Topic2\", \"Topic2\", \"Topic2\", \"Topic2\", \"Topic2\", \"Topic2\", \"Topic2\", \"Topic2\", \"Topic2\", \"Topic2\", \"Topic2\", \"Topic2\", \"Topic2\", \"Topic2\", \"Topic2\", \"Topic2\", \"Topic2\", \"Topic2\", \"Topic2\", \"Topic2\", \"Topic2\", \"Topic2\", \"Topic2\", \"Topic2\", \"Topic2\", \"Topic2\", \"Topic2\", \"Topic2\", \"Topic2\", \"Topic2\", \"Topic2\", \"Topic2\", \"Topic2\", \"Topic2\", \"Topic2\", \"Topic2\", \"Topic2\", \"Topic2\", \"Topic2\", \"Topic2\", \"Topic2\", \"Topic2\", \"Topic2\", \"Topic2\", \"Topic2\", \"Topic2\", \"Topic2\", \"Topic2\", \"Topic2\", \"Topic2\", \"Topic2\", \"Topic2\", \"Topic2\", \"Topic2\", \"Topic2\", \"Topic2\", \"Topic2\", \"Topic2\", \"Topic2\", \"Topic2\", \"Topic2\", \"Topic2\", \"Topic2\", \"Topic3\", \"Topic3\", \"Topic3\", \"Topic3\", \"Topic3\", \"Topic3\", \"Topic3\", \"Topic3\", \"Topic3\", \"Topic3\", \"Topic3\", \"Topic3\", \"Topic3\", \"Topic3\", \"Topic3\", \"Topic3\", \"Topic3\", \"Topic3\", \"Topic3\", \"Topic3\", \"Topic3\", \"Topic3\", \"Topic3\", \"Topic3\", \"Topic3\", \"Topic3\", \"Topic3\", \"Topic3\", \"Topic3\", \"Topic3\", \"Topic3\", \"Topic3\", \"Topic3\", \"Topic3\", \"Topic3\", \"Topic3\", \"Topic3\", \"Topic3\", \"Topic3\", \"Topic3\", \"Topic3\", \"Topic3\", \"Topic3\", \"Topic3\", \"Topic3\", \"Topic3\", \"Topic3\", \"Topic3\", \"Topic3\", \"Topic3\", \"Topic3\", \"Topic3\", \"Topic3\", \"Topic3\", \"Topic3\", \"Topic3\", \"Topic3\", \"Topic3\", \"Topic3\", \"Topic3\", \"Topic3\", \"Topic3\", \"Topic3\", \"Topic3\", \"Topic3\", \"Topic3\", \"Topic3\", \"Topic3\", \"Topic4\", \"Topic4\", \"Topic4\", \"Topic4\", \"Topic4\", \"Topic4\", \"Topic4\", \"Topic4\", \"Topic4\", \"Topic4\", \"Topic4\", \"Topic4\", \"Topic4\", \"Topic4\", \"Topic4\", \"Topic4\", \"Topic4\", \"Topic4\", \"Topic4\", \"Topic4\", \"Topic4\", \"Topic4\", \"Topic4\", \"Topic4\", \"Topic4\", \"Topic4\", \"Topic4\", \"Topic4\", \"Topic4\", \"Topic4\", \"Topic4\", \"Topic4\", \"Topic4\", \"Topic4\", \"Topic4\", \"Topic4\", \"Topic4\", \"Topic4\", \"Topic4\", \"Topic4\", \"Topic4\", \"Topic4\", \"Topic4\", \"Topic4\", \"Topic4\", \"Topic4\", \"Topic4\", \"Topic4\", \"Topic4\", \"Topic4\", \"Topic4\", \"Topic4\", \"Topic4\", \"Topic4\", \"Topic4\", \"Topic4\", \"Topic4\", \"Topic4\", \"Topic4\", \"Topic4\", \"Topic4\", \"Topic4\", \"Topic4\", \"Topic4\", \"Topic4\", \"Topic4\", \"Topic5\", \"Topic5\", \"Topic5\", \"Topic5\", \"Topic5\", \"Topic5\", \"Topic5\", \"Topic5\", \"Topic5\", \"Topic5\", \"Topic5\", \"Topic5\", \"Topic5\", \"Topic5\", \"Topic5\", \"Topic5\", \"Topic5\", \"Topic5\", \"Topic5\", \"Topic5\", \"Topic5\", \"Topic5\", \"Topic5\", \"Topic5\", \"Topic5\", \"Topic5\", \"Topic5\", \"Topic5\", \"Topic5\", \"Topic5\", \"Topic5\", \"Topic5\", \"Topic5\", \"Topic5\", \"Topic5\", \"Topic5\", \"Topic5\", \"Topic5\", \"Topic5\", \"Topic5\", \"Topic5\", \"Topic5\", \"Topic5\", \"Topic5\", \"Topic5\", \"Topic5\", \"Topic5\", \"Topic5\", \"Topic5\", \"Topic5\", \"Topic5\", \"Topic5\", \"Topic5\"], \"Freq\": [85.0, 38.0, 242.0, 57.0, 27.0, 71.0, 39.0, 51.0, 61.0, 204.0, 17.0, 124.0, 20.0, 91.0, 90.0, 15.0, 48.0, 56.0, 49.0, 35.0, 65.0, 15.0, 20.0, 40.0, 17.0, 30.0, 52.0, 77.0, 34.0, 175.0, 70.99703216552734, 55.22209548950195, 24.865015029907227, 20.927438735961914, 23.07415008544922, 20.227041244506836, 19.154926300048828, 17.416643142700195, 17.179513931274414, 43.85414505004883, 15.820186614990234, 15.60723876953125, 16.02039337158203, 15.143630981445312, 20.799150466918945, 14.713703155517578, 15.104656219482422, 15.63036060333252, 15.632957458496094, 22.713462829589844, 13.185246467590332, 28.48897361755371, 14.437732696533203, 26.142709732055664, 12.302001953125, 11.726593017578125, 14.018609046936035, 11.719596862792969, 17.551300048828125, 11.231148719787598, 21.300338745117188, 41.863853454589844, 21.76108741760254, 49.04627990722656, 19.680038452148438, 49.350486755371094, 20.837278366088867, 64.56491088867188, 52.08268737792969, 48.36185073852539, 66.96060943603516, 71.55721282958984, 26.94696807861328, 34.04376983642578, 55.6230583190918, 88.53218078613281, 41.99207305908203, 61.224971771240234, 78.74689483642578, 31.33733558654785, 106.27415466308594, 65.07615661621094, 32.2930908203125, 45.25884246826172, 42.94169616699219, 38.19274139404297, 42.672176361083984, 52.2447395324707, 83.52669525146484, 67.11026763916016, 99.60472106933594, 56.73445129394531, 84.29934692382812, 39.53763961791992, 47.91640853881836, 75.42047119140625, 63.43210983276367, 49.03984069824219, 31.172834396362305, 21.960975646972656, 21.881933212280273, 21.45577621459961, 19.871917724609375, 19.275707244873047, 21.419849395751953, 17.63055419921875, 21.018030166625977, 17.175874710083008, 16.639360427856445, 14.991076469421387, 14.617331504821777, 13.807141304016113, 15.146652221679688, 19.764938354492188, 12.942811012268066, 17.763717651367188, 12.616121292114258, 12.435879707336426, 11.911255836486816, 18.52935791015625, 10.941000938415527, 10.81007194519043, 10.420140266418457, 10.639142990112305, 10.13309383392334, 11.618019104003906, 10.098990440368652, 10.04909896850586, 32.159393310546875, 22.206941604614258, 26.47867202758789, 31.26116371154785, 19.941871643066406, 24.287540435791016, 22.016326904296875, 32.071266174316406, 27.067541122436523, 53.26031494140625, 111.71817016601562, 38.85707092285156, 42.16581726074219, 34.94118118286133, 52.03789520263672, 80.16561889648438, 81.99830627441406, 31.741680145263672, 49.19133758544922, 34.275203704833984, 52.51757049560547, 40.61109924316406, 55.16082763671875, 52.76306915283203, 45.642845153808594, 41.35009765625, 39.06851577758789, 40.6942138671875, 36.951019287109375, 44.36488723754883, 37.87802505493164, 53.28914260864258, 34.16621780395508, 43.5086555480957, 34.07896423339844, 37.94081115722656, 32.55995178222656, 17.229671478271484, 16.110532760620117, 14.923135757446289, 14.269781112670898, 13.231435775756836, 13.73310661315918, 12.998700141906738, 12.0564546585083, 11.441024780273438, 11.026403427124023, 10.37031078338623, 9.752851486206055, 9.252852439880371, 9.377091407775879, 8.25543212890625, 8.171539306640625, 8.169660568237305, 8.304092407226562, 7.747140407562256, 7.747140407562256, 7.7433552742004395, 7.7433552742004395, 9.065279960632324, 7.743496417999268, 7.743496417999268, 7.743496417999268, 8.288755416870117, 7.689723014831543, 7.933468341827393, 7.2992844581604, 32.05116271972656, 22.775270462036133, 24.91520881652832, 16.296770095825195, 23.629901885986328, 112.1403579711914, 11.170767784118652, 9.955945014953613, 18.021697998046875, 18.619245529174805, 46.003170013427734, 28.947799682617188, 75.89067077636719, 30.078676223754883, 10.683039665222168, 27.13068389892578, 19.237838745117188, 12.74066162109375, 26.446565628051758, 40.63527297973633, 23.512907028198242, 45.46238327026367, 21.82447052001953, 25.37299919128418, 26.955190658569336, 17.849891662597656, 27.274375915527344, 35.830684661865234, 31.383920669555664, 20.873489379882812, 20.206018447875977, 26.820730209350586, 26.775056838989258, 23.75962257385254, 26.445831298828125, 24.548555374145508, 21.161705017089844, 19.81574821472168, 14.98670482635498, 16.14078140258789, 5.418010234832764, 4.969878673553467, 4.772951602935791, 4.752371311187744, 4.346489906311035, 4.539641380310059, 8.538561820983887, 3.545889139175415, 3.3284718990325928, 3.8309261798858643, 4.562079429626465, 69.53758239746094, 2.629499673843384, 2.643564462661743, 2.624807357788086, 2.615713357925415, 2.615713357925415, 4.318150043487549, 2.5076839923858643, 2.4349398612976074, 2.386342763900757, 2.2194247245788574, 2.2194247245788574, 2.2194247245788574, 2.2194247245788574, 2.2194247245788574, 2.2194247245788574, 2.2194247245788574, 2.940812826156616, 2.2194247245788574, 2.2194247245788574, 2.2194247245788574, 2.2194247245788574, 4.788562774658203, 2.531874418258667, 2.2194247245788574, 18.768402099609375, 2.2194247245788574, 2.2194247245788574, 2.9171009063720703, 2.2194247245788574, 4.494227886199951, 6.667357921600342, 5.998775959014893, 7.252115249633789, 5.120096683502197, 6.386091232299805, 4.6017842292785645, 4.994663238525391, 5.080269813537598, 4.420036315917969, 3.4985923767089844, 6.938533782958984, 4.441823959350586, 6.886846542358398, 7.250337600708008, 5.416033744812012, 6.505579948425293, 5.09697961807251, 5.589509010314941, 4.840353488922119, 4.88325834274292, 5.036501884460449, 4.568663120269775, 5.749482154846191, 5.749168872833252, 6.303533554077148, 5.090834617614746, 6.256134510040283, 4.226312160491943, 4.1589579582214355, 4.215402126312256, 3.8599116802215576, 3.8599116802215576, 3.8599116802215576, 3.8599116802215576, 3.8599116802215576, 3.8599116802215576, 3.8599116802215576, 3.8589229583740234, 3.8579375743865967, 3.8579375743865967, 10.254807472229004, 2.969663619995117, 2.499577760696411, 2.4988276958465576, 2.337782382965088, 2.335951805114746, 2.334925889968872, 2.2350594997406006, 2.234799861907959, 2.2344844341278076, 2.233710765838623, 2.233710765838623, 3.77354097366333, 13.202080726623535, 2.6936542987823486, 4.24049711227417, 18.189838409423828, 7.5005950927734375, 3.546224355697632, 3.8598127365112305, 9.778493881225586, 6.032649993896484, 4.850391387939453, 6.141131401062012, 4.9180216789245605, 5.080619812011719, 6.02819299697876, 5.117027759552002, 4.544116020202637, 5.540873050689697, 4.775405406951904, 4.681999683380127, 4.4623918533325195, 4.249297618865967, 3.8823471069335938], \"Term\": [\"morning\", \"beautiful\", \"say\", \"death\", \"fish\", \"must\", \"break\", \"sun\", \"sit\", \"man\", \"art\", \"love\", \"pigeon\", \"light\", \"would\", \"rooster\", \"sweet\", \"live\", \"burn\", \"wrong\", \"world\", \"organize\", \"many\", \"blue\", \"somewhere\", \"sound\", \"head\", \"people\", \"field\", \"know\", \"must\", \"live\", \"forever\", \"learn\", \"close\", \"grass\", \"promise\", \"freedom\", \"wife\", \"ever\", \"nigger\", \"daddy\", \"brush\", \"rent\", \"cotton\", \"mayhap\", \"landlord\", \"broken\", \"nation\", \"fight\", \"image\", \"mind\", \"slave\", \"memory\", \"master\", \"save\", \"moment\", \"singe\", \"hang\", \"be\", \"become\", \"try\", \"sick\", \"talk\", \"poet\", \"death\", \"teach\", \"people\", \"sit\", \"still\", \"look\", \"would\", \"folk\", \"can\", \"never\", \"love\", \"sun\", \"child\", \"get\", \"father\", \"know\", \"die\", \"pain\", \"hear\", \"think\", \"year\", \"lie\", \"thing\", \"make\", \"take\", \"man\", \"soul\", \"see\", \"even\", \"life\", \"say\", \"come\", \"eye\", \"strike\", \"mercy\", \"pray\", \"bale\", \"thought\", \"hunger\", \"bleed\", \"violet\", \"iron\", \"catch\", \"gleam\", \"breed\", \"belly\", \"mule\", \"receive\", \"soil\", \"nighttrain\", \"brown\", \"sink\", \"hit\", \"kind\", \"cloud\", \"mass\", \"coal\", \"snow\", \"fist\", \"stream\", \"fix\", \"clay\", \"gray\", \"field\", \"new\", \"riot\", \"beat\", \"glass\", \"dry\", \"leg\", \"bone\", \"brother\", \"face\", \"come\", \"cry\", \"shall\", \"sweet\", \"leave\", \"black\", \"see\", \"sweat\", \"night\", \"fall\", \"way\", \"turn\", \"dream\", \"let\", \"blood\", \"day\", \"little\", \"white\", \"heart\", \"eye\", \"light\", \"say\", \"back\", \"make\", \"long\", \"go\", \"run\", \"shit\", \"flash\", \"shirt\", \"cat\", \"purple\", \"squat\", \"suit\", \"ole\", \"car\", \"bent\", \"spin\", \"crystal\", \"hip\", \"limb\", \"problem\", \"hum\", \"chest\", \"loose\", \"coroner\", \"candidate\", \"market\", \"hongry\", \"stoop\", \"fart\", \"belch\", \"locker\", \"ocean\", \"bull\", \"drum\", \"month\", \"wrong\", \"bottle\", \"do\", \"table\", \"wine\", \"say\", \"pill\", \"fuck\", \"drink\", \"hot\", \"light\", \"burn\", \"man\", \"tell\", \"moon\", \"fire\", \"spit\", \"early\", \"head\", \"go\", \"red\", \"know\", \"boy\", \"walk\", \"rise\", \"full\", \"white\", \"black\", \"eye\", \"could\", \"kill\", \"take\", \"get\", \"let\", \"come\", \"make\", \"old\", \"dream\", \"rooster\", \"art\", \"afraid\", \"syncopate\", \"nickel\", \"gourd\", \"yazoo\", \"rate\", \"strip\", \"throne\", \"throng\", \"rhythm\", \"support\", \"morning\", \"horn\", \"clip\", \"venture\", \"stud\", \"masquerade\", \"ant\", \"conqueror\", \"appoint\", \"refuse\", \"colonialism\", \"wallow\", \"suppressor\", \"sludge\", \"religious\", \"bandwagon\", \"clerk\", \"flank\", \"censorship\", \"contemporary\", \"contribution\", \"pornographic\", \"lung\", \"limbo\", \"racism\", \"fish\", \"kisser\", \"conviction\", \"rotten\", \"entertainment\", \"hurl\", \"care\", \"ghost\", \"somewhere\", \"plate\", \"dance\", \"shrine\", \"middle\", \"scale\", \"nail\", \"mission\", \"blue\", \"scream\", \"sun\", \"world\", \"war\", \"go\", \"great\", \"woman\", \"blow\", \"full\", \"rise\", \"eye\", \"alert\", \"city_pigeon\", \"thief\", \"bruise\", \"sew\", \"seam\", \"salvation\", \"compound\", \"ravine\", \"crepe\", \"switchblade\", \"solitude\", \"fertility\", \"arson\", \"turban\", \"crumb\", \"shithead\", \"leftist\", \"mask\", \"rule\", \"fling\", \"gospel\", \"pose\", \"manufacture\", \"zombie\", \"stub\", \"insanity\", \"quivering\", \"stifle\", \"appeal\", \"prisoner\", \"pigeon\", \"african\", \"deed\", \"beautiful\", \"organize\", \"temple\", \"camouflage\", \"break\", \"somewhere\", \"moan\", \"many\", \"steal\", \"oil\", \"death\", \"sweet\", \"snake\", \"love\", \"sit\", \"burn\", \"sound\", \"black\", \"grief\"], \"Total\": [85.0, 38.0, 242.0, 57.0, 27.0, 71.0, 39.0, 51.0, 61.0, 204.0, 17.0, 124.0, 20.0, 91.0, 90.0, 15.0, 48.0, 56.0, 49.0, 35.0, 65.0, 15.0, 20.0, 40.0, 17.0, 30.0, 52.0, 77.0, 34.0, 175.0, 71.53265380859375, 56.16586685180664, 25.431961059570312, 21.461782455444336, 23.66851043701172, 20.759065628051758, 19.694950103759766, 17.946189880371094, 17.7166748046875, 45.26191711425781, 16.354991912841797, 16.144573211669922, 16.57859230041504, 15.673081398010254, 21.526569366455078, 15.235982894897461, 15.665327072143555, 16.214040756225586, 16.232765197753906, 23.61696434020996, 13.723052978515625, 29.680076599121094, 15.043663024902344, 27.240379333496094, 12.832573890686035, 12.255748748779297, 14.655961990356445, 12.253173828125, 18.354581832885742, 11.763164520263672, 22.382972717285156, 45.184722900390625, 23.162778854370117, 53.99057388305664, 21.070842742919922, 57.25273895263672, 22.469776153564453, 77.91332244873047, 61.61393356323242, 56.952911376953125, 81.8149642944336, 90.17705535888672, 30.068016052246094, 39.554508209228516, 71.11115264892578, 124.2454605102539, 51.743255615234375, 83.04386901855469, 114.3110122680664, 36.957435607910156, 175.38938903808594, 94.2007064819336, 38.53456115722656, 60.182220458984375, 56.88912582397461, 48.568084716796875, 57.578006744384766, 76.99901580810547, 151.7622528076172, 110.7858657836914, 204.71923828125, 92.1609878540039, 179.90261840820312, 53.10715866088867, 75.73668670654297, 242.25926208496094, 205.24168395996094, 130.86614990234375, 31.73721694946289, 22.519838333129883, 22.43886947631836, 22.002899169921875, 20.424734115600586, 19.83138656616211, 22.05083465576172, 18.178586959838867, 21.692401885986328, 17.735260009765625, 17.203079223632812, 15.5513916015625, 15.171618461608887, 14.354837417602539, 15.755541801452637, 20.57217788696289, 13.491738319396973, 18.537349700927734, 13.171684265136719, 12.998544692993164, 12.46739387512207, 19.409528732299805, 11.490898132324219, 11.376310348510742, 10.973891258239746, 11.210333824157715, 10.68596363067627, 12.253005981445312, 10.653556823730469, 10.613202095031738, 34.221946716308594, 23.874155044555664, 29.451955795288086, 35.6663932800293, 22.205947875976562, 27.597822189331055, 24.940204620361328, 38.818946838378906, 33.34362030029297, 79.11680603027344, 205.24168395996094, 54.101707458496094, 61.51627731323242, 48.866390228271484, 84.14230346679688, 165.6809539794922, 179.90261840820312, 45.26355743408203, 89.03964233398438, 51.25567626953125, 100.84949493408203, 68.08159637451172, 114.1670150756836, 107.70606994628906, 94.15198516845703, 78.51638793945312, 77.275634765625, 86.00472259521484, 72.71195983886719, 130.86614990234375, 91.72728729248047, 242.25926208496094, 73.64739227294922, 151.7622528076172, 78.04444122314453, 120.7703628540039, 71.51585388183594, 17.823169708251953, 16.68826675415039, 15.498634338378906, 14.856206893920898, 13.810760498046875, 14.351431846618652, 13.614383697509766, 12.632365226745605, 12.037040710449219, 11.63182544708252, 10.956478118896484, 10.329872131347656, 9.834695816040039, 9.969145774841309, 8.82568359375, 8.745779991149902, 8.746917724609375, 8.903018951416016, 8.315028190612793, 8.315028190612793, 8.312588691711426, 8.312588691711426, 9.73228931427002, 8.315262794494629, 8.315262794494629, 8.315262794494629, 8.902981758117676, 8.274327278137207, 8.562967300415039, 7.879757881164551, 35.759544372558594, 25.28633689880371, 31.762178421020508, 20.529769897460938, 32.8861198425293, 242.25926208496094, 13.144596099853516, 11.398478507995605, 24.99526596069336, 26.143613815307617, 91.72728729248047, 49.424476623535156, 204.71923828125, 55.19512939453125, 12.737594604492188, 48.70427322387695, 30.27553939819336, 16.458805084228516, 52.744693756103516, 120.7703628540039, 49.75883102416992, 175.38938903808594, 46.296119689941406, 63.36983108520508, 72.28120422363281, 32.59640884399414, 86.00472259521484, 165.6809539794922, 130.86614990234375, 46.92955780029297, 44.751380920410156, 110.7858657836914, 114.3110122680664, 107.70606994628906, 205.24168395996094, 151.7622528076172, 93.10950469970703, 114.1670150756836, 15.626590728759766, 17.752731323242188, 6.085136890411377, 5.6211347579956055, 5.422808647155762, 5.406799793243408, 4.986425399780273, 5.22421932220459, 10.128414154052734, 4.213045120239258, 4.000186920166016, 4.615670204162598, 5.585055351257324, 85.64811706542969, 3.2745234966278076, 3.294436454772949, 3.27797269821167, 3.286190986633301, 3.286190986633301, 5.443732261657715, 3.1640357971191406, 3.0736114978790283, 3.0702109336853027, 2.8578128814697266, 2.8578128814697266, 2.8578128814697266, 2.8578128814697266, 2.8578128814697266, 2.8578128814697266, 2.8578128814697266, 3.795935869216919, 2.8578128814697266, 2.8578128814697266, 2.8578128814697266, 2.8578128814697266, 6.294675350189209, 3.275132894515991, 2.8578128814697266, 27.071456909179688, 2.8578128814697266, 2.8578128814697266, 4.036471843719482, 2.8578128814697266, 7.356832027435303, 14.022480964660645, 13.141249656677246, 17.792783737182617, 11.04675006866455, 16.949865341186523, 10.675832748413086, 13.4975004196167, 14.213746070861816, 11.117741584777832, 6.660340309143066, 40.68212127685547, 13.539679527282715, 51.743255615234375, 65.79060363769531, 26.1972599029541, 120.7703628540039, 29.99358558654785, 74.43152618408203, 25.460613250732422, 32.59640884399414, 72.28120422363281, 130.86614990234375, 6.399815559387207, 6.400033473968506, 7.129242420196533, 5.777256965637207, 7.216123580932617, 4.879439353942871, 4.817867279052734, 4.888121604919434, 4.510006427764893, 4.510006427764893, 4.510006427764893, 4.510006427764893, 4.510006427764893, 4.510006427764893, 4.510006427764893, 4.510813236236572, 4.512007713317871, 4.512007713317871, 12.176122665405273, 3.623332977294922, 3.1524858474731445, 3.1522717475891113, 2.988614082336426, 2.989549160003662, 2.9904842376708984, 2.8862414360046387, 2.88645076751709, 2.886704683303833, 2.8875198364257812, 2.8875198364257812, 5.040896415710449, 20.132869720458984, 3.576709270477295, 6.323179721832275, 38.7445068359375, 15.713507652282715, 5.674894332885742, 6.638108253479004, 39.83771896362305, 17.792783737182617, 12.185145378112793, 20.206562042236328, 15.254568099975586, 19.499073028564453, 57.25273895263672, 48.866390228271484, 17.926918029785156, 124.2454605102539, 61.61393356323242, 49.424476623535156, 30.24224853515625, 165.6809539794922, 10.725555419921875], \"loglift\": [30.0, 29.0, 28.0, 27.0, 26.0, 25.0, 24.0, 23.0, 22.0, 21.0, 20.0, 19.0, 18.0, 17.0, 16.0, 15.0, 14.0, 13.0, 12.0, 11.0, 10.0, 9.0, 8.0, 7.0, 6.0, 5.0, 4.0, 3.0, 2.0, 1.0, 0.9587000012397766, 0.9491999745368958, 0.9437000155448914, 0.9409999847412109, 0.9408000111579895, 0.9401999711990356, 0.9383999705314636, 0.9362000226974487, 0.9354000091552734, 0.9345999956130981, 0.9329000115394592, 0.9322999715805054, 0.9319000244140625, 0.9318000078201294, 0.9318000078201294, 0.9312999844551086, 0.9297000169754028, 0.9294999837875366, 0.9284999966621399, 0.9272000193595886, 0.9261999726295471, 0.9251999855041504, 0.9251000285148621, 0.9251000285148621, 0.9240000247955322, 0.9221000075340271, 0.9217000007629395, 0.9217000007629395, 0.9214000105857849, 0.9199000000953674, 0.9165999889373779, 0.8899000287055969, 0.9038000106811523, 0.870199978351593, 0.8978999853134155, 0.8177000284194946, 0.8907999992370605, 0.7782999873161316, 0.7980999946594238, 0.8026999831199646, 0.7657999992370605, 0.7348999977111816, 0.8565999865531921, 0.8162000179290771, 0.7204999923706055, 0.6273000240325928, 0.7573999762535095, 0.6614000201225281, 0.593500018119812, 0.8011999726295471, 0.4652000069618225, 0.5963000059127808, 0.7894999980926514, 0.6812000274658203, 0.6848999857902527, 0.7258999943733215, 0.6665999889373779, 0.5782999992370605, 0.36899998784065247, 0.4648999869823456, 0.24580000340938568, 0.48100000619888306, 0.20819999277591705, 0.6711000204086304, 0.508400022983551, -0.20069999992847443, -0.20800000429153442, -0.015300000086426735, 1.1780999898910522, 1.1708999872207642, 1.1708999872207642, 1.170799970626831, 1.1685999631881714, 1.1676000356674194, 1.1670000553131104, 1.1654000282287598, 1.1643999814987183, 1.1640000343322754, 1.1627000570297241, 1.1592999696731567, 1.1588000059127808, 1.157099962234497, 1.156599998474121, 1.156000018119812, 1.1545000076293945, 1.15339994430542, 1.152899980545044, 1.1518000364303589, 1.1504000425338745, 1.1496000289916992, 1.1469999551773071, 1.1449999809265137, 1.1442999839782715, 1.1437000036239624, 1.142899990081787, 1.142799973487854, 1.1426000595092773, 1.1413999795913696, 1.1339000463485718, 1.1236000061035156, 1.0895999670028687, 1.0642000436782837, 1.0885000228881836, 1.0683000087738037, 1.0713000297546387, 1.0051000118255615, 0.987500011920929, 0.8003000020980835, 0.5878000259399414, 0.8651000261306763, 0.8183000087738037, 0.8605999946594238, 0.715499997138977, 0.4700999855995178, 0.41029998660087585, 0.8411999940872192, 0.6026999950408936, 0.7936000227928162, 0.5435000061988831, 0.6794000267982483, 0.46860000491142273, 0.48240000009536743, 0.47200000286102295, 0.5547999739646912, 0.5139999985694885, 0.44769999384880066, 0.51910001039505, 0.11429999768733978, 0.311599999666214, -0.3181999921798706, 0.42800000309944153, -0.053300000727176666, 0.36739999055862427, 0.03819999843835831, 0.4092000126838684, 1.496899962425232, 1.4955999851226807, 1.4930000305175781, 1.4904999732971191, 1.4880000352859497, 1.486799955368042, 1.4845000505447388, 1.4842000007629395, 1.4800000190734863, 1.4773999452590942, 1.4758000373840332, 1.4732999801635742, 1.4697999954223633, 1.469599962234497, 1.4639999866485596, 1.4629000425338745, 1.462499976158142, 1.4611999988555908, 1.4601000547409058, 1.4601000547409058, 1.4599000215530396, 1.4599000215530396, 1.4598000049591064, 1.4595999717712402, 1.4595999717712402, 1.4595999717712402, 1.4593000411987305, 1.4574999809265137, 1.4544999599456787, 1.454300045967102, 1.4213000535964966, 1.426200032234192, 1.2879999876022339, 1.2999000549316406, 1.2002999782562256, 0.7605999708175659, 1.3681000471115112, 1.3954999446868896, 1.2036999464035034, 1.1914000511169434, 0.8406999707221985, 0.9958999752998352, 0.5385000109672546, 0.923799991607666, 1.3549000024795532, 0.9456999897956848, 1.0773999691009521, 1.2747999429702759, 0.840499997138977, 0.4415999948978424, 0.7811999917030334, 0.18070000410079956, 0.7788000106811523, 0.6154999732971191, 0.5443999767303467, 0.928600013256073, 0.3824000060558319, -0.00039999998989515007, 0.10289999842643738, 0.7206000089645386, 0.7357000112533569, 0.11240000277757645, 0.07940000295639038, 0.01940000057220459, -0.5182999968528748, -0.290800005197525, 0.04919999837875366, -0.22040000557899475, 2.874500036239624, 2.8210999965667725, 2.8001999855041504, 2.7932000160217285, 2.7887001037597656, 2.7873001098632812, 2.7790000438690186, 2.7757999897003174, 2.7455999851226807, 2.7439000606536865, 2.7325000762939453, 2.7300000190734863, 2.7139999866485596, 2.707900047302246, 2.696899890899658, 2.696199893951416, 2.6940999031066895, 2.6881000995635986, 2.6881000995635986, 2.6847000122070312, 2.683799982070923, 2.6833999156951904, 2.664299964904785, 2.6635000705718994, 2.6635000705718994, 2.6635000705718994, 2.6635000705718994, 2.6635000705718994, 2.6635000705718994, 2.6635000705718994, 2.661099910736084, 2.6635000705718994, 2.6635000705718994, 2.6635000705718994, 2.6635000705718994, 2.6428000926971436, 2.658900022506714, 2.6635000705718994, 2.549999952316284, 2.6635000705718994, 2.6635000705718994, 2.5915000438690186, 2.6635000705718994, 2.4235000610351562, 2.1728999614715576, 2.1321001052856445, 2.0188000202178955, 2.1473000049591064, 1.9401999711990356, 2.0748000144958496, 1.9221999645233154, 1.8875000476837158, 1.993899941444397, 2.2725000381469727, 1.1476000547409058, 1.8016999959945679, 0.8996000289916992, 0.7109000086784363, 1.340000033378601, -0.004900000058114529, 1.1440000534057617, 0.3273000121116638, 1.2561999559402466, 1.017899990081787, 0.2524999976158142, -0.43860000371932983, 2.9593000411987305, 2.959199905395508, 2.9433000087738037, 2.940000057220459, 2.9237000942230225, 2.9226999282836914, 2.9193999767303467, 2.9184000492095947, 2.910799980163574, 2.910799980163574, 2.910799980163574, 2.910799980163574, 2.910799980163574, 2.910799980163574, 2.910799980163574, 2.910399913787842, 2.9098000526428223, 2.9098000526428223, 2.894700050354004, 2.867500066757202, 2.834399938583374, 2.8341000080108643, 2.8208000659942627, 2.819700002670288, 2.819000005722046, 2.810800075531006, 2.8106000423431396, 2.81030011177063, 2.8097000122070312, 2.8097000122070312, 2.776900053024292, 2.6445000171661377, 2.782900094985962, 2.6668999195098877, 2.31030011177063, 2.326900005340576, 2.596299886703491, 2.524199962615967, 1.6618000268936157, 1.9847999811172485, 2.1452999114990234, 1.8753999471664429, 1.934499979019165, 1.721500039100647, 0.8154000043869019, 0.8098999857902527, 1.694000005722046, -0.043699998408555984, 0.5090000033378601, 0.7096999883651733, 1.152899980545044, -0.5968999862670898, 2.050299882888794], \"logprob\": [30.0, 29.0, 28.0, 27.0, 26.0, 25.0, 24.0, 23.0, 22.0, 21.0, 20.0, 19.0, 18.0, 17.0, 16.0, 15.0, 14.0, 13.0, 12.0, 11.0, 10.0, 9.0, 8.0, 7.0, 6.0, 5.0, 4.0, 3.0, 2.0, 1.0, -5.1097002029418945, -5.361000061035156, -6.158899784088135, -6.331299781799316, -6.23360013961792, -6.365300178527832, -6.4197998046875, -6.514900207519531, -6.528600215911865, -5.591400146484375, -6.611000061035156, -6.624599933624268, -6.598499774932861, -6.654699802398682, -6.337399959564209, -6.683499813079834, -6.657299995422363, -6.6230998039245605, -6.622900009155273, -6.2494001388549805, -6.7932000160217285, -6.022799968719482, -6.702499866485596, -6.108699798583984, -6.862599849700928, -6.9105000495910645, -6.731900215148926, -6.911099910736084, -6.507199764251709, -6.95359992980957, -6.313600063323975, -5.637899875640869, -6.292200088500977, -5.479599952697754, -6.3927001953125, -5.473400115966797, -6.335599899291992, -5.204599857330322, -5.41949987411499, -5.493599891662598, -5.1682000160217285, -5.101799964904785, -6.078400135040283, -5.844699859619141, -5.353700160980225, -4.888899803161621, -5.634799957275391, -5.257800102233887, -5.006100177764893, -5.927499771118164, -4.706299781799316, -5.196800231933594, -5.897500038146973, -5.559899806976318, -5.612500190734863, -5.729700088500977, -5.618800163269043, -5.416399955749512, -4.9471001625061035, -5.165999889373779, -4.771100044250488, -5.333899974822998, -4.937900066375732, -5.695099830627441, -5.502900123596191, -5.049200057983398, -5.222300052642822, -5.479700088500977, -5.702899932861328, -6.053199768066406, -6.05679988861084, -6.076499938964844, -6.153200149536133, -6.183599948883057, -6.078199863433838, -6.272799968719482, -6.097099781036377, -6.298999786376953, -6.330699920654297, -6.434999942779541, -6.460299968719482, -6.517300128936768, -6.424699783325195, -6.158599853515625, -6.581900119781494, -6.2652997970581055, -6.607500076293945, -6.6219000816345215, -6.664999961853027, -6.223100185394287, -6.75, -6.76200008392334, -6.798699855804443, -6.777900218963623, -6.826700210571289, -6.689899921417236, -6.829999923706055, -6.835000038146973, -5.671800136566162, -6.042099952697754, -5.866099834442139, -5.700099945068359, -6.149700164794922, -5.952499866485596, -6.0507001876831055, -5.674499988555908, -5.844099998474121, -5.167300224304199, -4.426499843597412, -5.482600212097168, -5.400899887084961, -5.588799953460693, -5.190499782562256, -4.758399963378906, -4.735799789428711, -5.684899806976318, -5.246799945831299, -5.608099937438965, -5.181300163269043, -5.438399791717529, -5.132199764251709, -5.176700115203857, -5.321599960327148, -5.420400142669678, -5.477200031280518, -5.436399936676025, -5.532899856567383, -5.349999904632568, -5.5081000328063965, -5.166800022125244, -5.611199855804443, -5.369500160217285, -5.613800048828125, -5.506499767303467, -5.65939998626709, -5.961100101470947, -6.028200149536133, -6.104800224304199, -6.149600028991699, -6.225100040435791, -6.187900066375732, -6.242800235748291, -6.3180999755859375, -6.370500087738037, -6.407400131225586, -6.468800067901611, -6.530099868774414, -6.582799911499023, -6.569399833679199, -6.696800231933594, -6.706999778747559, -6.707300186157227, -6.690999984741211, -6.76039981842041, -6.76039981842041, -6.760900020599365, -6.760900020599365, -6.6031999588012695, -6.760799884796143, -6.760799884796143, -6.760799884796143, -6.692800045013428, -6.7677998542785645, -6.736599922180176, -6.819900035858154, -5.340400218963623, -5.682000160217285, -5.592199802398682, -6.01669979095459, -5.645199775695801, -4.087900161743164, -6.394400119781494, -6.509500026702881, -5.916100025177002, -5.883500099182129, -4.979000091552734, -5.442200183868408, -4.478400230407715, -5.403900146484375, -6.439000129699707, -5.506999969482422, -5.850800037384033, -6.262899875640869, -5.532599925994873, -5.103099822998047, -5.650100231170654, -4.990799903869629, -5.724699974060059, -5.573999881744385, -5.513500213623047, -5.9257001876831055, -5.501800060272217, -5.228899955749512, -5.361400127410889, -5.769199848175049, -5.801700115203857, -5.518499851226807, -5.520199775695801, -5.639699935913086, -5.532599925994873, -5.60699987411499, -5.755499839782715, -5.821199893951416, -4.715000152587891, -4.640900135040283, -5.732500076293945, -5.81879997253418, -5.8592000007629395, -5.86359977722168, -5.9527997970581055, -5.90939998626709, -5.277599811553955, -6.156400203704834, -6.219699859619141, -6.079100131988525, -5.904399871826172, -3.180299997329712, -6.455399990081787, -6.450099945068359, -6.457200050354004, -6.460700035095215, -6.460700035095215, -5.959400177001953, -6.502799987792969, -6.532299995422363, -6.5524001121521, -6.625, -6.625, -6.625, -6.625, -6.625, -6.625, -6.625, -6.343500137329102, -6.625, -6.625, -6.625, -6.625, -5.855999946594238, -6.493199825286865, -6.625, -4.489999771118164, -6.625, -6.625, -6.351600170135498, -6.625, -5.919400215148926, -5.525000095367432, -5.6305999755859375, -5.440899848937988, -5.789000034332275, -5.5680999755859375, -5.8958001136779785, -5.813799858093262, -5.796800136566162, -5.936100006103516, -6.1697998046875, -5.485099792480469, -5.931099891662598, -5.492599964141846, -5.441199779510498, -5.732800006866455, -5.549499988555908, -5.793600082397461, -5.701300144195557, -5.845200061798096, -5.836400032043457, -5.805500030517578, -5.9029998779296875, -5.5229997634887695, -5.5229997634887695, -5.431000232696533, -5.644599914550781, -5.438499927520752, -5.830699920654297, -5.846799850463867, -5.8333001136779785, -5.92140007019043, -5.92140007019043, -5.92140007019043, -5.92140007019043, -5.92140007019043, -5.92140007019043, -5.92140007019043, -5.9217000007629395, -5.921899795532227, -5.921899795532227, -4.944300174713135, -6.183599948883057, -6.355899810791016, -6.356200218200684, -6.422900199890137, -6.423600196838379, -6.424099922180176, -6.467800140380859, -6.467899799346924, -6.468100070953369, -6.468400001525879, -6.468400001525879, -5.9440999031066895, -4.691699981689453, -6.281199932098389, -5.827400207519531, -4.371200084686279, -5.2571001052856445, -6.006199836730957, -5.92140007019043, -4.9918999671936035, -5.474899768829346, -5.692999839782715, -5.457099914550781, -5.679200172424316, -5.646599769592285, -5.475599765777588, -5.639500141143799, -5.758200168609619, -5.559899806976318, -5.708600044250488, -5.728300094604492, -5.776400089263916, -5.825300216674805, -5.915599822998047]}, \"token.table\": {\"Topic\": [4, 5, 5, 2, 4, 5, 4, 5, 1, 4, 1, 2, 3, 2, 4, 1, 1, 2, 1, 3, 4, 5, 1, 4, 3, 2, 3, 1, 2, 3, 4, 5, 2, 1, 2, 3, 4, 5, 1, 2, 4, 1, 2, 3, 4, 2, 3, 4, 3, 5, 1, 2, 3, 4, 1, 2, 3, 4, 5, 2, 1, 1, 2, 2, 5, 1, 3, 1, 2, 3, 5, 4, 5, 1, 2, 3, 3, 1, 3, 4, 3, 2, 4, 3, 1, 2, 3, 5, 2, 4, 4, 1, 2, 2, 4, 1, 2, 3, 4, 5, 4, 4, 4, 4, 3, 1, 1, 2, 3, 4, 5, 5, 1, 2, 3, 5, 3, 1, 2, 3, 4, 1, 2, 3, 1, 2, 5, 4, 5, 1, 2, 2, 3, 1, 2, 3, 1, 3, 3, 2, 4, 1, 3, 4, 1, 2, 3, 1, 2, 1, 2, 3, 4, 5, 1, 2, 3, 4, 1, 2, 3, 3, 1, 2, 3, 5, 2, 5, 1, 1, 2, 3, 1, 4, 2, 2, 4, 3, 5, 1, 3, 1, 1, 1, 3, 1, 2, 3, 4, 1, 2, 3, 2, 4, 2, 4, 2, 1, 2, 3, 4, 5, 5, 4, 1, 2, 1, 2, 3, 4, 1, 2, 5, 1, 2, 3, 5, 1, 2, 3, 4, 1, 2, 3, 5, 3, 2, 3, 4, 1, 2, 3, 3, 2, 2, 3, 4, 1, 5, 2, 1, 3, 2, 4, 1, 2, 3, 1, 1, 1, 2, 3, 5, 2, 4, 1, 2, 3, 4, 1, 2, 3, 1, 2, 3, 4, 1, 2, 3, 3, 4, 1, 2, 3, 4, 1, 3, 3, 1, 2, 3, 1, 2, 3, 5, 3, 1, 2, 3, 5, 3, 4, 1, 2, 3, 1, 2, 3, 5, 1, 2, 5, 3, 2, 4, 5, 4, 2, 1, 1, 1, 3, 2, 2, 4, 1, 3, 2, 4, 2, 3, 5, 1, 3, 2, 3, 2, 3, 4, 2, 1, 3, 4, 1, 1, 2, 3, 2, 3, 4, 4, 1, 1, 2, 3, 2, 3, 1, 3, 5, 1, 2, 3, 4, 5, 3, 1, 5, 1, 2, 4, 1, 2, 3, 3, 4, 5, 1, 3, 1, 4, 1, 3, 4, 5, 2, 1, 5, 3, 1, 3, 5, 4, 4, 5, 2, 2, 3, 4, 4, 4, 1, 4, 1, 2, 3, 1, 2, 3, 4, 4, 4, 5, 5, 1, 2, 3, 5, 1, 1, 2, 3, 4, 3, 4, 1, 2, 3, 4, 5, 1, 2, 3, 5, 1, 2, 3, 3, 5, 1, 4, 1, 3, 1, 2, 1, 3, 5, 1, 4, 2, 5, 2, 2, 5, 2, 4, 5, 1, 2, 3, 1, 2, 5, 3, 1, 2, 3, 3, 1, 5, 5, 1, 2, 3, 3, 2, 2, 2, 4, 5, 4, 3, 1, 3, 4, 3, 4, 4, 1, 2, 3, 2, 3, 4, 5, 5, 4, 2, 3, 1, 2, 3, 1, 2, 3, 1, 2, 3, 1, 2, 3, 1, 5, 5, 1, 2, 3, 1, 2, 3, 2, 4, 4, 1, 2, 3, 5, 1, 2, 3, 4, 2, 1, 2, 3, 4, 1, 2, 4, 1, 2, 3, 1, 2, 3, 1, 1, 2, 3, 1, 2, 3, 4, 1, 2, 3, 4, 1, 2, 4, 1, 3, 4, 1, 2, 3, 5], \"Freq\": [0.8216742277145386, 0.8387598395347595, 0.9375270009040833, 0.18369749188423157, 0.7347899675369263, 0.6926359534263611, 0.6507003307342529, 0.8869166970252991, 0.05632936209440231, 0.901269793510437, 0.35303354263305664, 0.4616592526435852, 0.17651677131652832, 0.9544196724891663, 0.6998358964920044, 0.9351224899291992, 0.1121503934264183, 0.8691655397415161, 0.46458199620246887, 0.025810111314058304, 0.025810111314058304, 0.46458199620246887, 0.9382131695747375, 0.04467681795358658, 0.9620862603187561, 0.9886881709098816, 0.9456813335418701, 0.25349926948547363, 0.48285573720932007, 0.21728508174419403, 0.024142786860466003, 0.024142786860466003, 0.9523448944091797, 0.3292548656463623, 0.48857176303863525, 0.1274535059928894, 0.021242249757051468, 0.042484499514102936, 0.15710540115833282, 0.6284216046333313, 0.19638176262378693, 0.22122740745544434, 0.3441314995288849, 0.27038905024528503, 0.17206574976444244, 0.824339747428894, 0.15456369519233704, 0.02576061710715294, 0.9095821380615234, 0.07909409701824188, 0.3240012228488922, 0.1512005776166916, 0.475201815366745, 0.043200165033340454, 0.1506110280752182, 0.47693493962287903, 0.0753055140376091, 0.050203677266836166, 0.25101837515830994, 0.964543879032135, 0.9867990612983704, 0.1799444705247879, 0.8097500801086426, 0.9710125923156738, 0.865462601184845, 0.9651000499725342, 0.9668459892272949, 0.08093155920505524, 0.2427946776151657, 0.586753785610199, 0.10116445273160934, 0.3012906610965729, 0.6025813221931458, 0.8595733046531677, 0.12640784680843353, 0.9621133804321289, 0.9138458967208862, 0.2852562367916107, 0.21394217014312744, 0.49919840693473816, 0.9423670768737793, 0.9585424661636353, 0.6998358964920044, 0.9146078824996948, 0.7345514893531799, 0.16858559846878052, 0.08429279923439026, 0.9374951124191284, 0.9386536478996277, 0.6998358964920044, 0.9106261730194092, 0.9717552661895752, 0.9789006114006042, 0.9669215679168701, 0.6998358964920044, 0.3069551885128021, 0.5456981062889099, 0.1266799122095108, 0.019489217549562454, 0.8183102607727051, 0.9481561779975891, 0.6998358964920044, 0.6998358964920044, 0.6998358964920044, 0.9621133804321289, 0.9755386114120483, 0.23439384996891022, 0.2557023763656616, 0.4474791884422302, 0.0639255940914154, 0.8869166970252991, 0.8867580890655518, 0.12938593327999115, 0.720864474773407, 0.09241852164268494, 0.05545111373066902, 0.9680662155151367, 0.9910451173782349, 0.41298264265060425, 0.17699255049228668, 0.35398510098457336, 0.445766806602478, 0.5221839547157288, 0.02547238953411579, 0.8558542728424072, 0.03493282571434975, 0.10479848086833954, 0.3162965476512909, 0.6325930953025818, 0.6900160312652588, 0.3078533113002777, 0.18890391290187836, 0.7870996594429016, 0.3416047990322113, 0.48175036907196045, 0.17518194019794464, 0.2800530195236206, 0.7201363444328308, 0.9342555999755859, 0.8696338534355164, 0.10870423167943954, 0.1822732537984848, 0.7898507714271545, 0.6998358964920044, 0.7531941533088684, 0.1882985383272171, 0.07531940937042236, 0.9721196889877319, 0.022093629464507103, 0.3744283616542816, 0.3362213969230652, 0.2368832528591156, 0.038206975907087326, 0.01528279110789299, 0.24015125632286072, 0.669895589351654, 0.06319769471883774, 0.025279078632593155, 0.195100337266922, 0.6633411645889282, 0.11706020683050156, 0.9620862603187561, 0.8388028144836426, 0.08117446303367615, 0.08117446303367615, 0.8869166970252991, 0.9350724816322327, 0.05844203010201454, 0.9738762378692627, 0.18478871881961823, 0.24638494849205017, 0.5543661117553711, 0.2585749328136444, 0.7018462419509888, 0.981237530708313, 0.9793515205383301, 0.7903189659118652, 0.9587574601173401, 0.6344199776649475, 0.8979641199111938, 0.09977379441261292, 0.9830150604248047, 0.9472762942314148, 0.0877310037612915, 0.8773100972175598, 0.030678225681185722, 0.24542580544948578, 0.5522080659866333, 0.15339113771915436, 0.6910970211029053, 0.07873257249593735, 0.23619771003723145, 0.5326738357543945, 0.4565775692462921, 0.9006596207618713, 0.09006595611572266, 0.9881951808929443, 0.28980618715286255, 0.31464672088623047, 0.3394872546195984, 0.05796124041080475, 0.008280177600681782, 0.6344630718231201, 0.9247614741325378, 0.9634345173835754, 0.9422227144241333, 0.5334473848342896, 0.0666809231042862, 0.23338323831558228, 0.16670231521129608, 0.3729410469532013, 0.27970579266548157, 0.3729410469532013, 0.9806815385818481, 0.4360628128051758, 0.4929405748844147, 0.05687775835394859, 0.7477291226387024, 0.11631342023611069, 0.08308101445436478, 0.049848608672618866, 0.3163166046142578, 0.5088571310043335, 0.12377606332302094, 0.041258685290813446, 0.9151274561882019, 0.9231802821159363, 0.9623957276344299, 0.9161638617515564, 0.15300104022026062, 0.15300104022026062, 0.726754903793335, 0.9147268533706665, 0.9580772519111633, 0.2718561589717865, 0.13592807948589325, 0.543712317943573, 0.9473110437393188, 0.6928924918174744, 0.9680808782577515, 0.5362963080406189, 0.44691357016563416, 0.9625107049942017, 0.6998358964920044, 0.6043695211410522, 0.13113677501678467, 0.2565719783306122, 0.9575287103652954, 0.9784834980964661, 0.2733464539051056, 0.6180006861686707, 0.10696165263652802, 0.8865233063697815, 0.8821098208427429, 0.08019180595874786, 0.2692513167858124, 0.4920799732208252, 0.222828671336174, 0.018569055944681168, 0.7468129396438599, 0.034735485911369324, 0.22578065097332, 0.6337747573852539, 0.21125824749469757, 0.14524005353450775, 0.013203640468418598, 0.08721505105495453, 0.4142715036869049, 0.5014865398406982, 0.9027854800224304, 0.9159933924674988, 0.2717544734477997, 0.5046868920326233, 0.19411034882068634, 0.01294068992137909, 0.9792424440383911, 0.017804408445954323, 0.9620862603187561, 0.37158316373825073, 0.43564921617507935, 0.19219818711280823, 0.8189210891723633, 0.03666810691356659, 0.1222270280122757, 0.02444540522992611, 0.8985716104507446, 0.716323971748352, 0.1851174235343933, 0.056340087205171585, 0.04829150438308716, 0.15886442363262177, 0.79432213306427, 0.553497314453125, 0.2899271547794342, 0.16473133862018585, 0.4884738624095917, 0.14165742695331573, 0.37124013900756836, 0.6689971685409546, 0.44539985060691833, 0.24744437634944916, 0.29693323373794556, 0.9623957276344299, 0.08212795108556747, 0.08212795108556747, 0.8212795257568359, 0.912911057472229, 0.9572793841362, 0.9351202845573425, 0.9845114946365356, 0.954465389251709, 0.036710210144519806, 0.9769164323806763, 0.592702329158783, 0.37043896317481995, 0.9433937668800354, 0.03369263559579849, 0.45042744278907776, 0.45042744278907776, 0.24620141088962555, 0.32826855778694153, 0.4103356897830963, 0.9552426338195801, 0.8883521556854248, 0.15701551735401154, 0.863585352897644, 0.023351360112428665, 0.16345952451229095, 0.8172975778579712, 0.9752810001373291, 0.9925537109375, 0.5396779775619507, 0.3597852885723114, 0.9856607913970947, 0.7874995470046997, 0.09843744337558746, 0.1265624314546585, 0.9214985966682434, 0.04188629984855652, 0.04188629984855652, 0.9220314025878906, 0.9782946109771729, 0.348159521818161, 0.5503166913986206, 0.1010785698890686, 0.9635526537895203, 0.8985753655433655, 0.4102759063243866, 0.30770692229270935, 0.2564224600791931, 0.40812158584594727, 0.33294129371643066, 0.225540891289711, 0.03222012519836426, 0.010740041732788086, 0.9499408602714539, 0.5091161131858826, 0.5091161131858826, 0.8304233551025391, 0.07785218954086304, 0.07785218954086304, 0.8342604041099548, 0.012834775261580944, 0.16685208678245544, 0.2483500838279724, 0.0993400365114212, 0.6457102298736572, 0.15215377509593964, 0.8368458151817322, 0.45262181758880615, 0.45262181758880615, 0.94917893409729, 0.0474589467048645, 0.6998358964920044, 0.6692065000534058, 0.9804415702819824, 0.19837741553783417, 0.7935096621513367, 0.9064453840255737, 0.9647142887115479, 0.9412950277328491, 0.6928315162658691, 0.6998358964920044, 0.9570807814598083, 0.8869166970252991, 0.9520459771156311, 0.46222952008247375, 0.4823264479637146, 0.060290805995464325, 0.6514210104942322, 0.6998358964920044, 0.9570549130439758, 0.8666130304336548, 0.033953603357076645, 0.882793664932251, 0.06790720671415329, 0.26286226511001587, 0.2905319631099701, 0.37354108691215515, 0.06917427480220795, 0.959902286529541, 0.7432233095169067, 0.24774110317230225, 0.8279669880867004, 0.29364117980003357, 0.4614361524581909, 0.23770953714847565, 0.8302428722381592, 0.979132354259491, 0.30958569049835205, 0.21877388656139374, 0.462314635515213, 0.004127809312194586, 0.633189857006073, 0.35177215933799744, 0.29542797803878784, 0.29542797803878784, 0.07385699450969696, 0.29542797803878784, 0.8197662830352783, 0.46691927313804626, 0.45580214262008667, 0.07226131856441498, 0.83147132396698, 0.3088613450527191, 0.6827461123466492, 0.9678272008895874, 0.9538146257400513, 0.8865233063697815, 0.46834754943847656, 0.46834754943847656, 0.949799656867981, 0.04317271336913109, 0.9793381094932556, 0.9869656562805176, 0.8439649343490601, 0.06492038071155548, 0.08115047216415405, 0.9306244254112244, 0.6998358964920044, 0.7251664996147156, 0.27891018986701965, 0.911253809928894, 0.972186803817749, 0.8869166970252991, 0.22481024265289307, 0.39341792464256287, 0.3372153639793396, 0.6184829473495483, 0.3146667778491974, 0.06510347127914429, 0.6282601356506348, 0.23146426677703857, 0.13226529955863953, 0.9127020239830017, 0.03302996605634689, 0.33029964566230774, 0.627569317817688, 0.9755124449729919, 0.6555413603782654, 0.3277706801891327, 0.6926359534263611, 0.8428015112876892, 0.0877918228507042, 0.07023345679044724, 0.9247567057609558, 0.9358070492744446, 0.9767712354660034, 0.09873213618993759, 0.8885892629623413, 0.69294273853302, 0.912911057472229, 0.9548724293708801, 0.8116999864578247, 0.05797857046127319, 0.13528333604335785, 0.17904925346374512, 0.8952462673187256, 0.6998358964920044, 0.11046414077281952, 0.7069705128669739, 0.17674262821674347, 0.7162386775016785, 0.14324773848056793, 0.020463962107896805, 0.10231981426477432, 0.8869166970252991, 0.8895001411437988, 0.1948390007019043, 0.7793560028076172, 0.604770302772522, 0.1534491777420044, 0.2437133938074112, 0.9075658321380615, 0.037043504416942596, 0.037043504416942596, 0.9345887303352356, 0.04450422525405884, 0.04450422525405884, 0.3079981803894043, 0.1449403315782547, 0.5435262322425842, 0.35242947936058044, 0.7048589587211609, 0.8416041731834412, 0.6753333210945129, 0.19480767846107483, 0.12987178564071655, 0.7558562159538269, 0.07031220942735672, 0.1757805198431015, 0.9792048931121826, 0.9494320154190063, 0.7499649524688721, 0.9295176863670349, 0.02213137410581112, 0.04426274821162224, 0.8869166970252991, 0.3231416642665863, 0.6022185683250427, 0.05875302851200104, 0.9151998162269592, 0.9901759624481201, 0.18936455249786377, 0.4102898836135864, 0.394509494304657, 0.6998358964920044, 0.45806318521499634, 0.30537545680999756, 0.19085966050624847, 0.3073887526988983, 0.5255355834960938, 0.16856802999973297, 0.20929083228111267, 0.476718008518219, 0.3139362633228302, 0.9595479965209961, 0.12163186073303223, 0.15203982591629028, 0.7297911643981934, 0.4702308475971222, 0.2149626761674881, 0.24183301627635956, 0.08061100542545319, 0.5471906065940857, 0.167197123169899, 0.18239687383174896, 0.10639817267656326, 0.7984292507171631, 0.15525013208389282, 0.04435718059539795, 0.08389368653297424, 0.8948659896850586, 0.8021778464317322, 0.7824068069458008, 0.16471722722053528, 0.04117930680513382, 0.6687880158424377], \"Term\": [\"afraid\", \"african\", \"alert\", \"ant\", \"ant\", \"appeal\", \"appoint\", \"arson\", \"art\", \"art\", \"back\", \"back\", \"back\", \"bale\", \"bandwagon\", \"be\", \"beat\", \"beat\", \"beautiful\", \"beautiful\", \"beautiful\", \"beautiful\", \"become\", \"become\", \"belch\", \"belly\", \"bent\", \"black\", \"black\", \"black\", \"black\", \"black\", \"bleed\", \"blood\", \"blood\", \"blood\", \"blood\", \"blood\", \"blow\", \"blow\", \"blow\", \"blue\", \"blue\", \"blue\", \"blue\", \"bone\", \"bone\", \"bone\", \"bottle\", \"bottle\", \"boy\", \"boy\", \"boy\", \"boy\", \"break\", \"break\", \"break\", \"break\", \"break\", \"breed\", \"broken\", \"brother\", \"brother\", \"brown\", \"bruise\", \"brush\", \"bull\", \"burn\", \"burn\", \"burn\", \"burn\", \"camouflage\", \"camouflage\", \"can\", \"can\", \"candidate\", \"car\", \"care\", \"care\", \"care\", \"cat\", \"catch\", \"censorship\", \"chest\", \"child\", \"child\", \"child\", \"city_pigeon\", \"clay\", \"clerk\", \"clip\", \"close\", \"cloud\", \"coal\", \"colonialism\", \"come\", \"come\", \"come\", \"come\", \"compound\", \"conqueror\", \"contemporary\", \"contribution\", \"conviction\", \"coroner\", \"cotton\", \"could\", \"could\", \"could\", \"could\", \"crepe\", \"crumb\", \"cry\", \"cry\", \"cry\", \"cry\", \"crystal\", \"daddy\", \"dance\", \"dance\", \"dance\", \"day\", \"day\", \"day\", \"death\", \"death\", \"death\", \"deed\", \"deed\", \"die\", \"die\", \"do\", \"do\", \"dream\", \"dream\", \"dream\", \"drink\", \"drink\", \"drum\", \"dry\", \"dry\", \"early\", \"early\", \"entertainment\", \"even\", \"even\", \"even\", \"ever\", \"ever\", \"eye\", \"eye\", \"eye\", \"eye\", \"eye\", \"face\", \"face\", \"face\", \"face\", \"fall\", \"fall\", \"fall\", \"fart\", \"father\", \"father\", \"father\", \"fertility\", \"field\", \"field\", \"fight\", \"fire\", \"fire\", \"fire\", \"fish\", \"fish\", \"fist\", \"fix\", \"flank\", \"flash\", \"fling\", \"folk\", \"folk\", \"forever\", \"freedom\", \"fuck\", \"fuck\", \"full\", \"full\", \"full\", \"full\", \"get\", \"get\", \"get\", \"ghost\", \"ghost\", \"glass\", \"glass\", \"gleam\", \"go\", \"go\", \"go\", \"go\", \"go\", \"gospel\", \"gourd\", \"grass\", \"gray\", \"great\", \"great\", \"great\", \"great\", \"grief\", \"grief\", \"grief\", \"hang\", \"head\", \"head\", \"head\", \"hear\", \"hear\", \"hear\", \"hear\", \"heart\", \"heart\", \"heart\", \"heart\", \"hip\", \"hit\", \"hongry\", \"horn\", \"hot\", \"hot\", \"hot\", \"hum\", \"hunger\", \"hurl\", \"hurl\", \"hurl\", \"image\", \"insanity\", \"iron\", \"kill\", \"kill\", \"kind\", \"kisser\", \"know\", \"know\", \"know\", \"landlord\", \"learn\", \"leave\", \"leave\", \"leave\", \"leftist\", \"leg\", \"leg\", \"let\", \"let\", \"let\", \"let\", \"lie\", \"lie\", \"lie\", \"life\", \"life\", \"life\", \"life\", \"light\", \"light\", \"light\", \"limb\", \"limbo\", \"little\", \"little\", \"little\", \"little\", \"live\", \"live\", \"locker\", \"long\", \"long\", \"long\", \"look\", \"look\", \"look\", \"look\", \"loose\", \"love\", \"love\", \"love\", \"love\", \"lung\", \"lung\", \"make\", \"make\", \"make\", \"man\", \"man\", \"man\", \"manufacture\", \"many\", \"many\", \"many\", \"market\", \"mask\", \"mask\", \"mask\", \"masquerade\", \"mass\", \"master\", \"mayhap\", \"memory\", \"memory\", \"mercy\", \"middle\", \"middle\", \"mind\", \"mind\", \"mission\", \"mission\", \"moan\", \"moan\", \"moan\", \"moment\", \"month\", \"moon\", \"moon\", \"morning\", \"morning\", \"morning\", \"mule\", \"must\", \"nail\", \"nail\", \"nation\", \"never\", \"never\", \"never\", \"new\", \"new\", \"new\", \"nickel\", \"nigger\", \"night\", \"night\", \"night\", \"nighttrain\", \"ocean\", \"oil\", \"oil\", \"oil\", \"old\", \"old\", \"old\", \"old\", \"old\", \"ole\", \"organize\", \"organize\", \"pain\", \"pain\", \"pain\", \"people\", \"people\", \"people\", \"pigeon\", \"pigeon\", \"pigeon\", \"pill\", \"pill\", \"plate\", \"plate\", \"poet\", \"poet\", \"pornographic\", \"pose\", \"pray\", \"prisoner\", \"prisoner\", \"problem\", \"promise\", \"purple\", \"quivering\", \"racism\", \"rate\", \"ravine\", \"receive\", \"red\", \"red\", \"red\", \"refuse\", \"religious\", \"rent\", \"rhythm\", \"riot\", \"riot\", \"riot\", \"rise\", \"rise\", \"rise\", \"rise\", \"rooster\", \"rotten\", \"rotten\", \"rule\", \"run\", \"run\", \"run\", \"salvation\", \"save\", \"say\", \"say\", \"say\", \"say\", \"scale\", \"scale\", \"scream\", \"scream\", \"scream\", \"scream\", \"seam\", \"see\", \"see\", \"see\", \"sew\", \"shall\", \"shall\", \"shirt\", \"shit\", \"shithead\", \"shrine\", \"shrine\", \"sick\", \"sick\", \"singe\", \"sink\", \"sit\", \"sit\", \"sit\", \"slave\", \"sludge\", \"snake\", \"snake\", \"snow\", \"soil\", \"solitude\", \"somewhere\", \"somewhere\", \"somewhere\", \"soul\", \"soul\", \"soul\", \"sound\", \"sound\", \"sound\", \"spin\", \"spit\", \"spit\", \"spit\", \"squat\", \"steal\", \"steal\", \"stifle\", \"still\", \"still\", \"still\", \"stoop\", \"stream\", \"strike\", \"strip\", \"strip\", \"stub\", \"stud\", \"suit\", \"sun\", \"sun\", \"sun\", \"support\", \"support\", \"suppressor\", \"sweat\", \"sweat\", \"sweat\", \"sweet\", \"sweet\", \"sweet\", \"sweet\", \"switchblade\", \"syncopate\", \"table\", \"table\", \"take\", \"take\", \"take\", \"talk\", \"talk\", \"talk\", \"teach\", \"teach\", \"teach\", \"tell\", \"tell\", \"tell\", \"temple\", \"temple\", \"thief\", \"thing\", \"thing\", \"thing\", \"think\", \"think\", \"think\", \"thought\", \"throne\", \"throng\", \"try\", \"try\", \"try\", \"turban\", \"turn\", \"turn\", \"turn\", \"venture\", \"violet\", \"walk\", \"walk\", \"walk\", \"wallow\", \"war\", \"war\", \"war\", \"way\", \"way\", \"way\", \"white\", \"white\", \"white\", \"wife\", \"wine\", \"wine\", \"wine\", \"woman\", \"woman\", \"woman\", \"woman\", \"world\", \"world\", \"world\", \"world\", \"would\", \"would\", \"would\", \"wrong\", \"wrong\", \"yazoo\", \"year\", \"year\", \"year\", \"zombie\"]}, \"R\": 30, \"lambda.step\": 0.01, \"plot.opts\": {\"xlab\": \"PC1\", \"ylab\": \"PC2\"}, \"topic.order\": [1, 3, 5, 2, 4]};\n",
       "\n",
       "function LDAvis_load_lib(url, callback){\n",
       "  var s = document.createElement('script');\n",
       "  s.src = url;\n",
       "  s.async = true;\n",
       "  s.onreadystatechange = s.onload = callback;\n",
       "  s.onerror = function(){console.warn(\"failed to load library \" + url);};\n",
       "  document.getElementsByTagName(\"head\")[0].appendChild(s);\n",
       "}\n",
       "\n",
       "if(typeof(LDAvis) !== \"undefined\"){\n",
       "   // already loaded: just create the visualization\n",
       "   !function(LDAvis){\n",
       "       new LDAvis(\"#\" + \"ldavis_el2842029341695306965016843633\", ldavis_el2842029341695306965016843633_data);\n",
       "   }(LDAvis);\n",
       "}else if(typeof define === \"function\" && define.amd){\n",
       "   // require.js is available: use it to load d3/LDAvis\n",
       "   require.config({paths: {d3: \"https://cdnjs.cloudflare.com/ajax/libs/d3/3.5.5/d3.min\"}});\n",
       "   require([\"d3\"], function(d3){\n",
       "      window.d3 = d3;\n",
       "      LDAvis_load_lib(\"https://cdn.rawgit.com/bmabey/pyLDAvis/files/ldavis.v1.0.0.js\", function(){\n",
       "        new LDAvis(\"#\" + \"ldavis_el2842029341695306965016843633\", ldavis_el2842029341695306965016843633_data);\n",
       "      });\n",
       "    });\n",
       "}else{\n",
       "    // require.js not available: dynamically load d3 & LDAvis\n",
       "    LDAvis_load_lib(\"https://cdnjs.cloudflare.com/ajax/libs/d3/3.5.5/d3.min.js\", function(){\n",
       "         LDAvis_load_lib(\"https://cdn.rawgit.com/bmabey/pyLDAvis/files/ldavis.v1.0.0.js\", function(){\n",
       "                 new LDAvis(\"#\" + \"ldavis_el2842029341695306965016843633\", ldavis_el2842029341695306965016843633_data);\n",
       "            })\n",
       "         });\n",
       "}\n",
       "</script>"
      ],
      "text/plain": [
       "PreparedData(topic_coordinates=              x         y  topics  cluster       Freq\n",
       "topic                                                \n",
       "0     -0.131436  0.056875       1        1  38.052788\n",
       "2     -0.118874 -0.001486       2        1  30.239269\n",
       "4     -0.069365 -0.029848       3        1  21.635962\n",
       "1      0.127848 -0.158297       4        1   5.413330\n",
       "3      0.191827  0.132756       5        1   4.658650, topic_info=     Category        Freq       Term       Total  loglift  logprob\n",
       "632   Default   85.000000    morning   85.000000  30.0000  30.0000\n",
       "86    Default   38.000000  beautiful   38.000000  29.0000  29.0000\n",
       "17    Default  242.000000        say  242.000000  28.0000  28.0000\n",
       "361   Default   57.000000      death   57.000000  27.0000  27.0000\n",
       "127   Default   27.000000       fish   27.000000  26.0000  26.0000\n",
       "...       ...         ...        ...         ...      ...      ...\n",
       "580    Topic5    4.775405        sit   61.613934   0.5090  -5.7086\n",
       "2486   Topic5    4.682000       burn   49.424477   0.7097  -5.7283\n",
       "512    Topic5    4.462392      sound   30.242249   1.1529  -5.7764\n",
       "38     Topic5    4.249298      black  165.680954  -0.5969  -5.8253\n",
       "823    Topic5    3.882347      grief   10.725555   2.0503  -5.9156\n",
       "\n",
       "[352 rows x 6 columns], token_table=      Topic      Freq     Term\n",
       "term                          \n",
       "1232      4  0.821674   afraid\n",
       "1810      5  0.838760  african\n",
       "6707      5  0.937527    alert\n",
       "906       2  0.183697      ant\n",
       "906       4  0.734790      ant\n",
       "...     ...       ...      ...\n",
       "6629      4  0.802178    yazoo\n",
       "242       1  0.782407     year\n",
       "242       2  0.164717     year\n",
       "242       3  0.041179     year\n",
       "5599      5  0.668788   zombie\n",
       "\n",
       "[558 rows x 3 columns], R=30, lambda_step=0.01, plot_opts={'xlab': 'PC1', 'ylab': 'PC2'}, topic_order=[1, 3, 5, 2, 4])"
      ]
     },
     "execution_count": 135,
     "metadata": {},
     "output_type": "execute_result"
    }
   ],
   "source": [
    "pyLDAvis.enable_notebook()\n",
    "vis = pyLDAvis.gensim.prepare(lda_model, corpus, id2word)\n",
    "vis"
   ]
  },
  {
   "cell_type": "code",
   "execution_count": null,
   "metadata": {},
   "outputs": [],
   "source": []
  }
 ],
 "metadata": {
  "kernelspec": {
   "display_name": "Python 3",
   "language": "python",
   "name": "python3"
  },
  "language_info": {
   "codemirror_mode": {
    "name": "ipython",
    "version": 3
   },
   "file_extension": ".py",
   "mimetype": "text/x-python",
   "name": "python",
   "nbconvert_exporter": "python",
   "pygments_lexer": "ipython3",
   "version": "3.7.6"
  }
 },
 "nbformat": 4,
 "nbformat_minor": 4
}
